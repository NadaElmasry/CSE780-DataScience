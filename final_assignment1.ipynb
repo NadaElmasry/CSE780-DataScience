{
 "cells": [
  {
   "cell_type": "markdown",
   "metadata": {},
   "source": [
    "## Data Science - Assignment 1\n",
    "### Name : Nada Elmasry\n",
    "### Student ID: 400548780"
   ]
  },
  {
   "cell_type": "markdown",
   "metadata": {},
   "source": [
    "### Import Libraries"
   ]
  },
  {
   "cell_type": "code",
   "execution_count": 1,
   "metadata": {},
   "outputs": [],
   "source": [
    "import numpy as np\n",
    "import pandas as pd \n",
    "import matplotlib.pyplot as plt \n",
    "%matplotlib inline\n",
    "import plotly.express as px\n",
    "import re"
   ]
  },
  {
   "cell_type": "markdown",
   "metadata": {},
   "source": [
    "### Data Exploration"
   ]
  },
  {
   "cell_type": "markdown",
   "metadata": {},
   "source": [
    "#### Load Dataset"
   ]
  },
  {
   "cell_type": "code",
   "execution_count": 2,
   "metadata": {},
   "outputs": [],
   "source": [
    "employment_df = pd.read_csv(\"14100431.csv\")"
   ]
  },
  {
   "cell_type": "markdown",
   "metadata": {},
   "source": [
    "#### Explore Dataset"
   ]
  },
  {
   "cell_type": "code",
   "execution_count": 3,
   "metadata": {},
   "outputs": [
    {
     "data": {
      "text/html": [
       "<div>\n",
       "<style scoped>\n",
       "    .dataframe tbody tr th:only-of-type {\n",
       "        vertical-align: middle;\n",
       "    }\n",
       "\n",
       "    .dataframe tbody tr th {\n",
       "        vertical-align: top;\n",
       "    }\n",
       "\n",
       "    .dataframe thead th {\n",
       "        text-align: right;\n",
       "    }\n",
       "</style>\n",
       "<table border=\"1\" class=\"dataframe\">\n",
       "  <thead>\n",
       "    <tr style=\"text-align: right;\">\n",
       "      <th></th>\n",
       "      <th>REF_DATE</th>\n",
       "      <th>GEO</th>\n",
       "      <th>DGUID</th>\n",
       "      <th>National Occupational Classification (NOC)</th>\n",
       "      <th>UOM</th>\n",
       "      <th>UOM_ID</th>\n",
       "      <th>SCALAR_FACTOR</th>\n",
       "      <th>SCALAR_ID</th>\n",
       "      <th>VECTOR</th>\n",
       "      <th>COORDINATE</th>\n",
       "      <th>VALUE</th>\n",
       "      <th>STATUS</th>\n",
       "      <th>SYMBOL</th>\n",
       "      <th>TERMINATED</th>\n",
       "      <th>DECIMALS</th>\n",
       "    </tr>\n",
       "  </thead>\n",
       "  <tbody>\n",
       "    <tr>\n",
       "      <th>0</th>\n",
       "      <td>2006-03</td>\n",
       "      <td>Canada</td>\n",
       "      <td>2016A000011124</td>\n",
       "      <td>Total employed, all occupations [00-95]</td>\n",
       "      <td>Persons</td>\n",
       "      <td>249</td>\n",
       "      <td>units</td>\n",
       "      <td>0</td>\n",
       "      <td>v1489727134</td>\n",
       "      <td>1.1</td>\n",
       "      <td>15990.3</td>\n",
       "      <td>NaN</td>\n",
       "      <td>NaN</td>\n",
       "      <td>NaN</td>\n",
       "      <td>1</td>\n",
       "    </tr>\n",
       "    <tr>\n",
       "      <th>1</th>\n",
       "      <td>2006-03</td>\n",
       "      <td>Canada</td>\n",
       "      <td>2016A000011124</td>\n",
       "      <td>Management occupations [00, 10, 20, 30, 40, 50...</td>\n",
       "      <td>Persons</td>\n",
       "      <td>249</td>\n",
       "      <td>units</td>\n",
       "      <td>0</td>\n",
       "      <td>v1489727058</td>\n",
       "      <td>1.2</td>\n",
       "      <td>1707.9</td>\n",
       "      <td>NaN</td>\n",
       "      <td>NaN</td>\n",
       "      <td>NaN</td>\n",
       "      <td>1</td>\n",
       "    </tr>\n",
       "    <tr>\n",
       "      <th>2</th>\n",
       "      <td>2006-03</td>\n",
       "      <td>Canada</td>\n",
       "      <td>2016A000011124</td>\n",
       "      <td>Legislative and senior management occupations ...</td>\n",
       "      <td>Persons</td>\n",
       "      <td>249</td>\n",
       "      <td>units</td>\n",
       "      <td>0</td>\n",
       "      <td>v1489726982</td>\n",
       "      <td>1.3</td>\n",
       "      <td>93.3</td>\n",
       "      <td>NaN</td>\n",
       "      <td>NaN</td>\n",
       "      <td>NaN</td>\n",
       "      <td>1</td>\n",
       "    </tr>\n",
       "    <tr>\n",
       "      <th>3</th>\n",
       "      <td>2006-03</td>\n",
       "      <td>Canada</td>\n",
       "      <td>2016A000011124</td>\n",
       "      <td>Specialized middle management occupations [10,...</td>\n",
       "      <td>Persons</td>\n",
       "      <td>249</td>\n",
       "      <td>units</td>\n",
       "      <td>0</td>\n",
       "      <td>v1489726906</td>\n",
       "      <td>1.4</td>\n",
       "      <td>477.8</td>\n",
       "      <td>NaN</td>\n",
       "      <td>NaN</td>\n",
       "      <td>NaN</td>\n",
       "      <td>1</td>\n",
       "    </tr>\n",
       "    <tr>\n",
       "      <th>4</th>\n",
       "      <td>2006-03</td>\n",
       "      <td>Canada</td>\n",
       "      <td>2016A000011124</td>\n",
       "      <td>Middle management occupations in retail and wh...</td>\n",
       "      <td>Persons</td>\n",
       "      <td>249</td>\n",
       "      <td>units</td>\n",
       "      <td>0</td>\n",
       "      <td>v1489726830</td>\n",
       "      <td>1.5</td>\n",
       "      <td>637.4</td>\n",
       "      <td>NaN</td>\n",
       "      <td>NaN</td>\n",
       "      <td>NaN</td>\n",
       "      <td>1</td>\n",
       "    </tr>\n",
       "    <tr>\n",
       "      <th>5</th>\n",
       "      <td>2006-03</td>\n",
       "      <td>Canada</td>\n",
       "      <td>2016A000011124</td>\n",
       "      <td>Middle management occupations in trades, trans...</td>\n",
       "      <td>Persons</td>\n",
       "      <td>249</td>\n",
       "      <td>units</td>\n",
       "      <td>0</td>\n",
       "      <td>v1489726754</td>\n",
       "      <td>1.6</td>\n",
       "      <td>499.4</td>\n",
       "      <td>NaN</td>\n",
       "      <td>NaN</td>\n",
       "      <td>NaN</td>\n",
       "      <td>1</td>\n",
       "    </tr>\n",
       "    <tr>\n",
       "      <th>6</th>\n",
       "      <td>2006-03</td>\n",
       "      <td>Canada</td>\n",
       "      <td>2016A000011124</td>\n",
       "      <td>Business, finance and administration occupatio...</td>\n",
       "      <td>Persons</td>\n",
       "      <td>249</td>\n",
       "      <td>units</td>\n",
       "      <td>0</td>\n",
       "      <td>v1489726678</td>\n",
       "      <td>1.7</td>\n",
       "      <td>2514.5</td>\n",
       "      <td>NaN</td>\n",
       "      <td>NaN</td>\n",
       "      <td>NaN</td>\n",
       "      <td>1</td>\n",
       "    </tr>\n",
       "    <tr>\n",
       "      <th>7</th>\n",
       "      <td>2006-03</td>\n",
       "      <td>Canada</td>\n",
       "      <td>2016A000011124</td>\n",
       "      <td>Professional occupations in finance and busine...</td>\n",
       "      <td>Persons</td>\n",
       "      <td>249</td>\n",
       "      <td>units</td>\n",
       "      <td>0</td>\n",
       "      <td>v1489726602</td>\n",
       "      <td>1.8</td>\n",
       "      <td>538.1</td>\n",
       "      <td>NaN</td>\n",
       "      <td>NaN</td>\n",
       "      <td>NaN</td>\n",
       "      <td>1</td>\n",
       "    </tr>\n",
       "    <tr>\n",
       "      <th>8</th>\n",
       "      <td>2006-03</td>\n",
       "      <td>Canada</td>\n",
       "      <td>2016A000011124</td>\n",
       "      <td>Professional occupations in finance [111]</td>\n",
       "      <td>Persons</td>\n",
       "      <td>249</td>\n",
       "      <td>units</td>\n",
       "      <td>0</td>\n",
       "      <td>v1489726526</td>\n",
       "      <td>1.9</td>\n",
       "      <td>340.3</td>\n",
       "      <td>NaN</td>\n",
       "      <td>NaN</td>\n",
       "      <td>NaN</td>\n",
       "      <td>1</td>\n",
       "    </tr>\n",
       "    <tr>\n",
       "      <th>9</th>\n",
       "      <td>2006-03</td>\n",
       "      <td>Canada</td>\n",
       "      <td>2016A000011124</td>\n",
       "      <td>Professional occupations in business [112]</td>\n",
       "      <td>Persons</td>\n",
       "      <td>249</td>\n",
       "      <td>units</td>\n",
       "      <td>0</td>\n",
       "      <td>v1489726450</td>\n",
       "      <td>1.1</td>\n",
       "      <td>197.8</td>\n",
       "      <td>NaN</td>\n",
       "      <td>NaN</td>\n",
       "      <td>NaN</td>\n",
       "      <td>1</td>\n",
       "    </tr>\n",
       "  </tbody>\n",
       "</table>\n",
       "</div>"
      ],
      "text/plain": [
       "  REF_DATE     GEO           DGUID  \\\n",
       "0  2006-03  Canada  2016A000011124   \n",
       "1  2006-03  Canada  2016A000011124   \n",
       "2  2006-03  Canada  2016A000011124   \n",
       "3  2006-03  Canada  2016A000011124   \n",
       "4  2006-03  Canada  2016A000011124   \n",
       "5  2006-03  Canada  2016A000011124   \n",
       "6  2006-03  Canada  2016A000011124   \n",
       "7  2006-03  Canada  2016A000011124   \n",
       "8  2006-03  Canada  2016A000011124   \n",
       "9  2006-03  Canada  2016A000011124   \n",
       "\n",
       "          National Occupational Classification (NOC)      UOM  UOM_ID  \\\n",
       "0            Total employed, all occupations [00-95]  Persons     249   \n",
       "1  Management occupations [00, 10, 20, 30, 40, 50...  Persons     249   \n",
       "2  Legislative and senior management occupations ...  Persons     249   \n",
       "3  Specialized middle management occupations [10,...  Persons     249   \n",
       "4  Middle management occupations in retail and wh...  Persons     249   \n",
       "5  Middle management occupations in trades, trans...  Persons     249   \n",
       "6  Business, finance and administration occupatio...  Persons     249   \n",
       "7  Professional occupations in finance and busine...  Persons     249   \n",
       "8          Professional occupations in finance [111]  Persons     249   \n",
       "9         Professional occupations in business [112]  Persons     249   \n",
       "\n",
       "  SCALAR_FACTOR  SCALAR_ID       VECTOR  COORDINATE    VALUE STATUS  SYMBOL  \\\n",
       "0         units          0  v1489727134         1.1  15990.3    NaN     NaN   \n",
       "1         units          0  v1489727058         1.2   1707.9    NaN     NaN   \n",
       "2         units          0  v1489726982         1.3     93.3    NaN     NaN   \n",
       "3         units          0  v1489726906         1.4    477.8    NaN     NaN   \n",
       "4         units          0  v1489726830         1.5    637.4    NaN     NaN   \n",
       "5         units          0  v1489726754         1.6    499.4    NaN     NaN   \n",
       "6         units          0  v1489726678         1.7   2514.5    NaN     NaN   \n",
       "7         units          0  v1489726602         1.8    538.1    NaN     NaN   \n",
       "8         units          0  v1489726526         1.9    340.3    NaN     NaN   \n",
       "9         units          0  v1489726450         1.1    197.8    NaN     NaN   \n",
       "\n",
       "   TERMINATED  DECIMALS  \n",
       "0         NaN         1  \n",
       "1         NaN         1  \n",
       "2         NaN         1  \n",
       "3         NaN         1  \n",
       "4         NaN         1  \n",
       "5         NaN         1  \n",
       "6         NaN         1  \n",
       "7         NaN         1  \n",
       "8         NaN         1  \n",
       "9         NaN         1  "
      ]
     },
     "execution_count": 3,
     "metadata": {},
     "output_type": "execute_result"
    }
   ],
   "source": [
    "employment_df.head(10)"
   ]
  },
  {
   "cell_type": "code",
   "execution_count": 4,
   "metadata": {},
   "outputs": [
    {
     "data": {
      "text/plain": [
       "Index(['REF_DATE', 'GEO', 'DGUID',\n",
       "       'National Occupational Classification (NOC)', 'UOM', 'UOM_ID',\n",
       "       'SCALAR_FACTOR', 'SCALAR_ID', 'VECTOR', 'COORDINATE', 'VALUE', 'STATUS',\n",
       "       'SYMBOL', 'TERMINATED', 'DECIMALS'],\n",
       "      dtype='object')"
      ]
     },
     "execution_count": 4,
     "metadata": {},
     "output_type": "execute_result"
    }
   ],
   "source": [
    "employment_df.columns"
   ]
  },
  {
   "cell_type": "code",
   "execution_count": 5,
   "metadata": {},
   "outputs": [
    {
     "name": "stdout",
     "output_type": "stream",
     "text": [
      "<class 'pandas.core.frame.DataFrame'>\n",
      "RangeIndex: 941640 entries, 0 to 941639\n",
      "Data columns (total 15 columns):\n",
      " #   Column                                      Non-Null Count   Dtype  \n",
      "---  ------                                      --------------   -----  \n",
      " 0   REF_DATE                                    941640 non-null  object \n",
      " 1   GEO                                         941640 non-null  object \n",
      " 2   DGUID                                       854910 non-null  object \n",
      " 3   National Occupational Classification (NOC)  941640 non-null  object \n",
      " 4   UOM                                         941640 non-null  object \n",
      " 5   UOM_ID                                      941640 non-null  int64  \n",
      " 6   SCALAR_FACTOR                               941640 non-null  object \n",
      " 7   SCALAR_ID                                   941640 non-null  int64  \n",
      " 8   VECTOR                                      941640 non-null  object \n",
      " 9   COORDINATE                                  941640 non-null  float64\n",
      " 10  VALUE                                       744489 non-null  float64\n",
      " 11  STATUS                                      197151 non-null  object \n",
      " 12  SYMBOL                                      0 non-null       float64\n",
      " 13  TERMINATED                                  0 non-null       float64\n",
      " 14  DECIMALS                                    941640 non-null  int64  \n",
      "dtypes: float64(4), int64(3), object(8)\n",
      "memory usage: 107.8+ MB\n"
     ]
    }
   ],
   "source": [
    "employment_df.info()"
   ]
  },
  {
   "cell_type": "code",
   "execution_count": 6,
   "metadata": {},
   "outputs": [
    {
     "data": {
      "text/plain": [
       "REF_DATE                                           0\n",
       "GEO                                                0\n",
       "DGUID                                          86730\n",
       "National Occupational Classification (NOC)         0\n",
       "UOM                                                0\n",
       "UOM_ID                                             0\n",
       "SCALAR_FACTOR                                      0\n",
       "SCALAR_ID                                          0\n",
       "VECTOR                                             0\n",
       "COORDINATE                                         0\n",
       "VALUE                                         197151\n",
       "STATUS                                        744489\n",
       "SYMBOL                                        941640\n",
       "TERMINATED                                    941640\n",
       "DECIMALS                                           0\n",
       "dtype: int64"
      ]
     },
     "execution_count": 6,
     "metadata": {},
     "output_type": "execute_result"
    }
   ],
   "source": [
    "employment_df.isna().sum()"
   ]
  },
  {
   "cell_type": "markdown",
   "metadata": {},
   "source": [
    "#### Choose Subset of Dataset"
   ]
  },
  {
   "cell_type": "markdown",
   "metadata": {},
   "source": [
    "- For my Analysis I will cover the dates from January 2019 to August 2023\n",
    "- I will only use the following variables in my analysis and the rest of the variables will be dropped as they have no meaning in the analysis and visualization of employment rates: \n",
    "    1. 'REF_DATE' : The date when the data was collected\n",
    "    2. 'GEO' : Provinance or Terrority where the data was collected.\n",
    "    3. 'National Occupational Classification (NOC)': Type of Employment\n",
    "    4. 'VALUE': Number of employed persons\n"
   ]
  },
  {
   "cell_type": "code",
   "execution_count": 7,
   "metadata": {},
   "outputs": [
    {
     "data": {
      "text/html": [
       "<div>\n",
       "<style scoped>\n",
       "    .dataframe tbody tr th:only-of-type {\n",
       "        vertical-align: middle;\n",
       "    }\n",
       "\n",
       "    .dataframe tbody tr th {\n",
       "        vertical-align: top;\n",
       "    }\n",
       "\n",
       "    .dataframe thead th {\n",
       "        text-align: right;\n",
       "    }\n",
       "</style>\n",
       "<table border=\"1\" class=\"dataframe\">\n",
       "  <thead>\n",
       "    <tr style=\"text-align: right;\">\n",
       "      <th></th>\n",
       "      <th>REF_DATE</th>\n",
       "      <th>GEO</th>\n",
       "      <th>DGUID</th>\n",
       "      <th>National Occupational Classification (NOC)</th>\n",
       "      <th>UOM</th>\n",
       "      <th>UOM_ID</th>\n",
       "      <th>SCALAR_FACTOR</th>\n",
       "      <th>SCALAR_ID</th>\n",
       "      <th>VECTOR</th>\n",
       "      <th>COORDINATE</th>\n",
       "      <th>VALUE</th>\n",
       "      <th>STATUS</th>\n",
       "      <th>SYMBOL</th>\n",
       "      <th>TERMINATED</th>\n",
       "      <th>DECIMALS</th>\n",
       "    </tr>\n",
       "  </thead>\n",
       "  <tbody>\n",
       "    <tr>\n",
       "      <th>690536</th>\n",
       "      <td>2019-01</td>\n",
       "      <td>Canada</td>\n",
       "      <td>2016A000011124</td>\n",
       "      <td>Total employed, all occupations [00-95]</td>\n",
       "      <td>Persons</td>\n",
       "      <td>249</td>\n",
       "      <td>units</td>\n",
       "      <td>0</td>\n",
       "      <td>v1489727134</td>\n",
       "      <td>1.1</td>\n",
       "      <td>18799.1</td>\n",
       "      <td>NaN</td>\n",
       "      <td>NaN</td>\n",
       "      <td>NaN</td>\n",
       "      <td>1</td>\n",
       "    </tr>\n",
       "    <tr>\n",
       "      <th>690537</th>\n",
       "      <td>2019-01</td>\n",
       "      <td>Canada</td>\n",
       "      <td>2016A000011124</td>\n",
       "      <td>Management occupations [00, 10, 20, 30, 40, 50...</td>\n",
       "      <td>Persons</td>\n",
       "      <td>249</td>\n",
       "      <td>units</td>\n",
       "      <td>0</td>\n",
       "      <td>v1489727058</td>\n",
       "      <td>1.2</td>\n",
       "      <td>1676.5</td>\n",
       "      <td>NaN</td>\n",
       "      <td>NaN</td>\n",
       "      <td>NaN</td>\n",
       "      <td>1</td>\n",
       "    </tr>\n",
       "    <tr>\n",
       "      <th>690538</th>\n",
       "      <td>2019-01</td>\n",
       "      <td>Canada</td>\n",
       "      <td>2016A000011124</td>\n",
       "      <td>Legislative and senior management occupations ...</td>\n",
       "      <td>Persons</td>\n",
       "      <td>249</td>\n",
       "      <td>units</td>\n",
       "      <td>0</td>\n",
       "      <td>v1489726982</td>\n",
       "      <td>1.3</td>\n",
       "      <td>60.0</td>\n",
       "      <td>NaN</td>\n",
       "      <td>NaN</td>\n",
       "      <td>NaN</td>\n",
       "      <td>1</td>\n",
       "    </tr>\n",
       "    <tr>\n",
       "      <th>690539</th>\n",
       "      <td>2019-01</td>\n",
       "      <td>Canada</td>\n",
       "      <td>2016A000011124</td>\n",
       "      <td>Specialized middle management occupations [10,...</td>\n",
       "      <td>Persons</td>\n",
       "      <td>249</td>\n",
       "      <td>units</td>\n",
       "      <td>0</td>\n",
       "      <td>v1489726906</td>\n",
       "      <td>1.4</td>\n",
       "      <td>523.8</td>\n",
       "      <td>NaN</td>\n",
       "      <td>NaN</td>\n",
       "      <td>NaN</td>\n",
       "      <td>1</td>\n",
       "    </tr>\n",
       "    <tr>\n",
       "      <th>690540</th>\n",
       "      <td>2019-01</td>\n",
       "      <td>Canada</td>\n",
       "      <td>2016A000011124</td>\n",
       "      <td>Middle management occupations in retail and wh...</td>\n",
       "      <td>Persons</td>\n",
       "      <td>249</td>\n",
       "      <td>units</td>\n",
       "      <td>0</td>\n",
       "      <td>v1489726830</td>\n",
       "      <td>1.5</td>\n",
       "      <td>542.4</td>\n",
       "      <td>NaN</td>\n",
       "      <td>NaN</td>\n",
       "      <td>NaN</td>\n",
       "      <td>1</td>\n",
       "    </tr>\n",
       "    <tr>\n",
       "      <th>690541</th>\n",
       "      <td>2019-01</td>\n",
       "      <td>Canada</td>\n",
       "      <td>2016A000011124</td>\n",
       "      <td>Middle management occupations in trades, trans...</td>\n",
       "      <td>Persons</td>\n",
       "      <td>249</td>\n",
       "      <td>units</td>\n",
       "      <td>0</td>\n",
       "      <td>v1489726754</td>\n",
       "      <td>1.6</td>\n",
       "      <td>550.3</td>\n",
       "      <td>NaN</td>\n",
       "      <td>NaN</td>\n",
       "      <td>NaN</td>\n",
       "      <td>1</td>\n",
       "    </tr>\n",
       "    <tr>\n",
       "      <th>690542</th>\n",
       "      <td>2019-01</td>\n",
       "      <td>Canada</td>\n",
       "      <td>2016A000011124</td>\n",
       "      <td>Business, finance and administration occupatio...</td>\n",
       "      <td>Persons</td>\n",
       "      <td>249</td>\n",
       "      <td>units</td>\n",
       "      <td>0</td>\n",
       "      <td>v1489726678</td>\n",
       "      <td>1.7</td>\n",
       "      <td>2810.1</td>\n",
       "      <td>NaN</td>\n",
       "      <td>NaN</td>\n",
       "      <td>NaN</td>\n",
       "      <td>1</td>\n",
       "    </tr>\n",
       "    <tr>\n",
       "      <th>690543</th>\n",
       "      <td>2019-01</td>\n",
       "      <td>Canada</td>\n",
       "      <td>2016A000011124</td>\n",
       "      <td>Professional occupations in finance and busine...</td>\n",
       "      <td>Persons</td>\n",
       "      <td>249</td>\n",
       "      <td>units</td>\n",
       "      <td>0</td>\n",
       "      <td>v1489726602</td>\n",
       "      <td>1.8</td>\n",
       "      <td>805.8</td>\n",
       "      <td>NaN</td>\n",
       "      <td>NaN</td>\n",
       "      <td>NaN</td>\n",
       "      <td>1</td>\n",
       "    </tr>\n",
       "    <tr>\n",
       "      <th>690544</th>\n",
       "      <td>2019-01</td>\n",
       "      <td>Canada</td>\n",
       "      <td>2016A000011124</td>\n",
       "      <td>Professional occupations in finance [111]</td>\n",
       "      <td>Persons</td>\n",
       "      <td>249</td>\n",
       "      <td>units</td>\n",
       "      <td>0</td>\n",
       "      <td>v1489726526</td>\n",
       "      <td>1.9</td>\n",
       "      <td>434.5</td>\n",
       "      <td>NaN</td>\n",
       "      <td>NaN</td>\n",
       "      <td>NaN</td>\n",
       "      <td>1</td>\n",
       "    </tr>\n",
       "    <tr>\n",
       "      <th>690545</th>\n",
       "      <td>2019-01</td>\n",
       "      <td>Canada</td>\n",
       "      <td>2016A000011124</td>\n",
       "      <td>Professional occupations in business [112]</td>\n",
       "      <td>Persons</td>\n",
       "      <td>249</td>\n",
       "      <td>units</td>\n",
       "      <td>0</td>\n",
       "      <td>v1489726450</td>\n",
       "      <td>1.1</td>\n",
       "      <td>371.4</td>\n",
       "      <td>NaN</td>\n",
       "      <td>NaN</td>\n",
       "      <td>NaN</td>\n",
       "      <td>1</td>\n",
       "    </tr>\n",
       "  </tbody>\n",
       "</table>\n",
       "</div>"
      ],
      "text/plain": [
       "       REF_DATE     GEO           DGUID  \\\n",
       "690536  2019-01  Canada  2016A000011124   \n",
       "690537  2019-01  Canada  2016A000011124   \n",
       "690538  2019-01  Canada  2016A000011124   \n",
       "690539  2019-01  Canada  2016A000011124   \n",
       "690540  2019-01  Canada  2016A000011124   \n",
       "690541  2019-01  Canada  2016A000011124   \n",
       "690542  2019-01  Canada  2016A000011124   \n",
       "690543  2019-01  Canada  2016A000011124   \n",
       "690544  2019-01  Canada  2016A000011124   \n",
       "690545  2019-01  Canada  2016A000011124   \n",
       "\n",
       "               National Occupational Classification (NOC)      UOM  UOM_ID  \\\n",
       "690536            Total employed, all occupations [00-95]  Persons     249   \n",
       "690537  Management occupations [00, 10, 20, 30, 40, 50...  Persons     249   \n",
       "690538  Legislative and senior management occupations ...  Persons     249   \n",
       "690539  Specialized middle management occupations [10,...  Persons     249   \n",
       "690540  Middle management occupations in retail and wh...  Persons     249   \n",
       "690541  Middle management occupations in trades, trans...  Persons     249   \n",
       "690542  Business, finance and administration occupatio...  Persons     249   \n",
       "690543  Professional occupations in finance and busine...  Persons     249   \n",
       "690544          Professional occupations in finance [111]  Persons     249   \n",
       "690545         Professional occupations in business [112]  Persons     249   \n",
       "\n",
       "       SCALAR_FACTOR  SCALAR_ID       VECTOR  COORDINATE    VALUE STATUS  \\\n",
       "690536         units          0  v1489727134         1.1  18799.1    NaN   \n",
       "690537         units          0  v1489727058         1.2   1676.5    NaN   \n",
       "690538         units          0  v1489726982         1.3     60.0    NaN   \n",
       "690539         units          0  v1489726906         1.4    523.8    NaN   \n",
       "690540         units          0  v1489726830         1.5    542.4    NaN   \n",
       "690541         units          0  v1489726754         1.6    550.3    NaN   \n",
       "690542         units          0  v1489726678         1.7   2810.1    NaN   \n",
       "690543         units          0  v1489726602         1.8    805.8    NaN   \n",
       "690544         units          0  v1489726526         1.9    434.5    NaN   \n",
       "690545         units          0  v1489726450         1.1    371.4    NaN   \n",
       "\n",
       "        SYMBOL  TERMINATED  DECIMALS  \n",
       "690536     NaN         NaN         1  \n",
       "690537     NaN         NaN         1  \n",
       "690538     NaN         NaN         1  \n",
       "690539     NaN         NaN         1  \n",
       "690540     NaN         NaN         1  \n",
       "690541     NaN         NaN         1  \n",
       "690542     NaN         NaN         1  \n",
       "690543     NaN         NaN         1  \n",
       "690544     NaN         NaN         1  \n",
       "690545     NaN         NaN         1  "
      ]
     },
     "execution_count": 7,
     "metadata": {},
     "output_type": "execute_result"
    }
   ],
   "source": [
    "employment_df_yearly = employment_df[employment_df[\"REF_DATE\"]>= \"2019-01\"]\n",
    "employment_df_yearly.head(10)"
   ]
  },
  {
   "cell_type": "markdown",
   "metadata": {},
   "source": [
    "### Data Transformation"
   ]
  },
  {
   "cell_type": "markdown",
   "metadata": {},
   "source": [
    "#### Dropping Unused Columns"
   ]
  },
  {
   "cell_type": "code",
   "execution_count": 8,
   "metadata": {},
   "outputs": [
    {
     "data": {
      "text/plain": [
       "Index(['REF_DATE', 'GEO', 'National Occupational Classification (NOC)',\n",
       "       'VALUE'],\n",
       "      dtype='object')"
      ]
     },
     "execution_count": 8,
     "metadata": {},
     "output_type": "execute_result"
    }
   ],
   "source": [
    "employment_df_yearly = employment_df_yearly[['REF_DATE', 'GEO','National Occupational Classification (NOC)', 'VALUE']]\n",
    "employment_df_yearly.columns"
   ]
  },
  {
   "cell_type": "code",
   "execution_count": 9,
   "metadata": {},
   "outputs": [
    {
     "name": "stdout",
     "output_type": "stream",
     "text": [
      "<class 'pandas.core.frame.DataFrame'>\n",
      "Int64Index: 251104 entries, 690536 to 941639\n",
      "Data columns (total 4 columns):\n",
      " #   Column                                      Non-Null Count   Dtype  \n",
      "---  ------                                      --------------   -----  \n",
      " 0   REF_DATE                                    251104 non-null  object \n",
      " 1   GEO                                         251104 non-null  object \n",
      " 2   National Occupational Classification (NOC)  251104 non-null  object \n",
      " 3   VALUE                                       200295 non-null  float64\n",
      "dtypes: float64(1), object(3)\n",
      "memory usage: 9.6+ MB\n"
     ]
    }
   ],
   "source": [
    "employment_df_yearly.info()"
   ]
  },
  {
   "cell_type": "markdown",
   "metadata": {},
   "source": [
    "#### Handle Missing Values"
   ]
  },
  {
   "cell_type": "code",
   "execution_count": 10,
   "metadata": {},
   "outputs": [
    {
     "data": {
      "text/plain": [
       "REF_DATE                                          0\n",
       "GEO                                               0\n",
       "National Occupational Classification (NOC)        0\n",
       "VALUE                                         50809\n",
       "dtype: int64"
      ]
     },
     "execution_count": 10,
     "metadata": {},
     "output_type": "execute_result"
    }
   ],
   "source": [
    "employment_df_yearly.isna().sum()"
   ]
  },
  {
   "cell_type": "code",
   "execution_count": 11,
   "metadata": {},
   "outputs": [
    {
     "data": {
      "text/html": [
       "<div>\n",
       "<style scoped>\n",
       "    .dataframe tbody tr th:only-of-type {\n",
       "        vertical-align: middle;\n",
       "    }\n",
       "\n",
       "    .dataframe tbody tr th {\n",
       "        vertical-align: top;\n",
       "    }\n",
       "\n",
       "    .dataframe thead th {\n",
       "        text-align: right;\n",
       "    }\n",
       "</style>\n",
       "<table border=\"1\" class=\"dataframe\">\n",
       "  <thead>\n",
       "    <tr style=\"text-align: right;\">\n",
       "      <th></th>\n",
       "      <th>REF_DATE</th>\n",
       "      <th>GEO</th>\n",
       "      <th>National Occupational Classification (NOC)</th>\n",
       "      <th>VALUE</th>\n",
       "    </tr>\n",
       "  </thead>\n",
       "  <tbody>\n",
       "    <tr>\n",
       "      <th>690653</th>\n",
       "      <td>2019-01</td>\n",
       "      <td>Newfoundland and Labrador</td>\n",
       "      <td>Labourers in processing, manufacturing and uti...</td>\n",
       "      <td>NaN</td>\n",
       "    </tr>\n",
       "    <tr>\n",
       "      <th>690656</th>\n",
       "      <td>2019-01</td>\n",
       "      <td>Avalon Peninsula, Newfoundland and Labrador</td>\n",
       "      <td>Legislative and senior management occupations ...</td>\n",
       "      <td>NaN</td>\n",
       "    </tr>\n",
       "    <tr>\n",
       "      <th>690694</th>\n",
       "      <td>2019-01</td>\n",
       "      <td>Avalon Peninsula, Newfoundland and Labrador</td>\n",
       "      <td>Occupations in art, culture and sport [53]</td>\n",
       "      <td>NaN</td>\n",
       "    </tr>\n",
       "    <tr>\n",
       "      <th>690712</th>\n",
       "      <td>2019-01</td>\n",
       "      <td>Avalon Peninsula, Newfoundland and Labrador</td>\n",
       "      <td>Labourers in processing, manufacturing and uti...</td>\n",
       "      <td>NaN</td>\n",
       "    </tr>\n",
       "    <tr>\n",
       "      <th>690715</th>\n",
       "      <td>2019-01</td>\n",
       "      <td>South Coast-Burin Peninsula and Notre Dame-Cen...</td>\n",
       "      <td>Legislative and senior management occupations ...</td>\n",
       "      <td>NaN</td>\n",
       "    </tr>\n",
       "    <tr>\n",
       "      <th>...</th>\n",
       "      <td>...</td>\n",
       "      <td>...</td>\n",
       "      <td>...</td>\n",
       "      <td>...</td>\n",
       "    </tr>\n",
       "    <tr>\n",
       "      <th>941635</th>\n",
       "      <td>2023-08</td>\n",
       "      <td>Northeast, British Columbia</td>\n",
       "      <td>Workers and labourers in natural resources, ag...</td>\n",
       "      <td>NaN</td>\n",
       "    </tr>\n",
       "    <tr>\n",
       "      <th>941636</th>\n",
       "      <td>2023-08</td>\n",
       "      <td>Northeast, British Columbia</td>\n",
       "      <td>Occupations in manufacturing and utilities, ex...</td>\n",
       "      <td>NaN</td>\n",
       "    </tr>\n",
       "    <tr>\n",
       "      <th>941637</th>\n",
       "      <td>2023-08</td>\n",
       "      <td>Northeast, British Columbia</td>\n",
       "      <td>Supervisors, central control and process opera...</td>\n",
       "      <td>NaN</td>\n",
       "    </tr>\n",
       "    <tr>\n",
       "      <th>941638</th>\n",
       "      <td>2023-08</td>\n",
       "      <td>Northeast, British Columbia</td>\n",
       "      <td>Machine operators, assemblers and inspectors i...</td>\n",
       "      <td>NaN</td>\n",
       "    </tr>\n",
       "    <tr>\n",
       "      <th>941639</th>\n",
       "      <td>2023-08</td>\n",
       "      <td>Northeast, British Columbia</td>\n",
       "      <td>Labourers in processing, manufacturing and uti...</td>\n",
       "      <td>NaN</td>\n",
       "    </tr>\n",
       "  </tbody>\n",
       "</table>\n",
       "<p>50809 rows × 4 columns</p>\n",
       "</div>"
      ],
      "text/plain": [
       "       REF_DATE                                                GEO  \\\n",
       "690653  2019-01                          Newfoundland and Labrador   \n",
       "690656  2019-01        Avalon Peninsula, Newfoundland and Labrador   \n",
       "690694  2019-01        Avalon Peninsula, Newfoundland and Labrador   \n",
       "690712  2019-01        Avalon Peninsula, Newfoundland and Labrador   \n",
       "690715  2019-01  South Coast-Burin Peninsula and Notre Dame-Cen...   \n",
       "...         ...                                                ...   \n",
       "941635  2023-08                        Northeast, British Columbia   \n",
       "941636  2023-08                        Northeast, British Columbia   \n",
       "941637  2023-08                        Northeast, British Columbia   \n",
       "941638  2023-08                        Northeast, British Columbia   \n",
       "941639  2023-08                        Northeast, British Columbia   \n",
       "\n",
       "               National Occupational Classification (NOC)  VALUE  \n",
       "690653  Labourers in processing, manufacturing and uti...    NaN  \n",
       "690656  Legislative and senior management occupations ...    NaN  \n",
       "690694         Occupations in art, culture and sport [53]    NaN  \n",
       "690712  Labourers in processing, manufacturing and uti...    NaN  \n",
       "690715  Legislative and senior management occupations ...    NaN  \n",
       "...                                                   ...    ...  \n",
       "941635  Workers and labourers in natural resources, ag...    NaN  \n",
       "941636  Occupations in manufacturing and utilities, ex...    NaN  \n",
       "941637  Supervisors, central control and process opera...    NaN  \n",
       "941638  Machine operators, assemblers and inspectors i...    NaN  \n",
       "941639  Labourers in processing, manufacturing and uti...    NaN  \n",
       "\n",
       "[50809 rows x 4 columns]"
      ]
     },
     "execution_count": 11,
     "metadata": {},
     "output_type": "execute_result"
    }
   ],
   "source": [
    "na_rows = employment_df_yearly[employment_df_yearly['VALUE'].isna()]\n",
    "na_rows"
   ]
  },
  {
   "cell_type": "code",
   "execution_count": 12,
   "metadata": {},
   "outputs": [],
   "source": [
    "employment_df_yearly.dropna(inplace=True)"
   ]
  },
  {
   "cell_type": "markdown",
   "metadata": {},
   "source": [
    "#### Format Column Values"
   ]
  },
  {
   "cell_type": "markdown",
   "metadata": {},
   "source": [
    "- Remove Codes from National Occupational Classification and keep occupation name only."
   ]
  },
  {
   "cell_type": "code",
   "execution_count": 13,
   "metadata": {},
   "outputs": [],
   "source": [
    "# remove the codes from the string and any trailing spaces\n",
    "employment_df_yearly[\"National Occupational Classification (NOC)\"] = employment_df_yearly[\"National Occupational Classification (NOC)\"].str.split('[', n=1).str[0]\n",
    "employment_df_yearly[\"National Occupational Classification (NOC)\"] = employment_df_yearly[\"National Occupational Classification (NOC)\"].str.strip()"
   ]
  },
  {
   "cell_type": "markdown",
   "metadata": {},
   "source": [
    "- Group all cities under the same provinances or terrorities into one row using the following steps:\n",
    "    - Get all cities under the same provinance or terrority\n",
    "    - Change their value into their provinance or terrority name\n",
    "    - Sum the rows with the same date and national occupational classification into one row with the value column equal the resulting sum.\n"
   ]
  },
  {
   "cell_type": "code",
   "execution_count": 14,
   "metadata": {},
   "outputs": [
    {
     "data": {
      "text/plain": [
       "array(['Canada', 'Newfoundland and Labrador',\n",
       "       'Avalon Peninsula, Newfoundland and Labrador',\n",
       "       'South Coast-Burin Peninsula and Notre Dame-Central Bonavista Bay, Newfoundland and Labrador',\n",
       "       'West Coast-Northern Peninsula-Labrador, Newfoundland and Labrador',\n",
       "       'Prince Edward Island', 'Nova Scotia', 'Cape Breton, Nova Scotia',\n",
       "       'North Shore, Nova Scotia', 'Southern, Nova Scotia',\n",
       "       'Halifax, Nova Scotia', 'New Brunswick',\n",
       "       'Campbellton-Miramichi, New Brunswick',\n",
       "       'Moncton-Richibucto, New Brunswick',\n",
       "       'Saint John-St. Stephen, New Brunswick',\n",
       "       'Fredericton-Oromocto, New Brunswick',\n",
       "       'Edmundston-Woodstock, New Brunswick', 'Quebec',\n",
       "       'Gaspésie-Îles-de-la-Madeleine, Quebec',\n",
       "       'Bas-Saint-Laurent, Quebec', 'Capitale-Nationale, Quebec',\n",
       "       'Chaudière-Appalaches, Quebec', 'Estrie, Quebec',\n",
       "       'Centre-du-Québec, Quebec', 'Montérégie, Quebec',\n",
       "       'Montréal, Quebec', 'Laval, Quebec', 'Lanaudière, Quebec',\n",
       "       'Laurentides, Quebec', 'Outaouais, Quebec',\n",
       "       'Abitibi-Témiscamingue, Quebec', 'Mauricie, Quebec',\n",
       "       'Saguenay-Lac-Saint-Jean, Quebec',\n",
       "       'Côte-Nord and Nord-du-Québec, Quebec', 'Ontario',\n",
       "       'Ottawa, Ontario', 'Kingston-Pembroke, Ontario',\n",
       "       'Muskoka-Kawarthas, Ontario', 'Toronto, Ontario',\n",
       "       'Kitchener-Waterloo-Barrie, Ontario',\n",
       "       'Hamilton-Niagara Peninsula, Ontario', 'London, Ontario',\n",
       "       'Windsor-Sarnia, Ontario', 'Stratford-Bruce Peninsula, Ontario',\n",
       "       'Northeast, Ontario', 'Northwest, Ontario', 'Manitoba',\n",
       "       'Southeast, Manitoba', 'South Central and North Central, Manitoba',\n",
       "       'Southwest, Manitoba', 'Winnipeg, Manitoba', 'Interlake, Manitoba',\n",
       "       'Parklands and North, Manitoba', 'Saskatchewan',\n",
       "       'Regina-Moose Mountain, Saskatchewan',\n",
       "       'Swift Current-Moose Jaw, Saskatchewan',\n",
       "       'Saskatoon-Biggar, Saskatchewan', 'Yorkton-Melville, Saskatchewan',\n",
       "       'Prince Albert and Northern, Saskatchewan', 'Alberta',\n",
       "       'Lethbridge-Medicine Hat, Alberta', 'Camrose-Drumheller, Alberta',\n",
       "       'Calgary, Alberta',\n",
       "       'Banff-Jasper-Rocky Mountain House and Athabasca-Grande Prairie-Peace River, Alberta',\n",
       "       'Red Deer, Alberta', 'Edmonton, Alberta',\n",
       "       'Wood Buffalo-Cold Lake, Alberta', 'British Columbia',\n",
       "       'Vancouver Island and Coast, British Columbia',\n",
       "       'Lower Mainland-Southwest, British Columbia',\n",
       "       'Thompson-Okanagan, British Columbia',\n",
       "       'Kootenay, British Columbia', 'Cariboo, British Columbia',\n",
       "       'North Coast and Nechako, British Columbia',\n",
       "       'Northeast, British Columbia'], dtype=object)"
      ]
     },
     "execution_count": 14,
     "metadata": {},
     "output_type": "execute_result"
    }
   ],
   "source": [
    "employment_df_yearly.GEO.unique()"
   ]
  },
  {
   "cell_type": "code",
   "execution_count": 15,
   "metadata": {},
   "outputs": [
    {
     "data": {
      "text/plain": [
       "75"
      ]
     },
     "execution_count": 15,
     "metadata": {},
     "output_type": "execute_result"
    }
   ],
   "source": [
    "employment_df_yearly.GEO.nunique()"
   ]
  },
  {
   "cell_type": "code",
   "execution_count": 16,
   "metadata": {},
   "outputs": [],
   "source": [
    "# Iterate over GEO column values\n",
    "for index, value in employment_df_yearly.GEO.iteritems():\n",
    "    # Check if the value contains a comma using regular expression\n",
    "    if re.search(r',', value):\n",
    "        # Extract the part after the comma using regular expression\n",
    "        geo = re.search(r',(.*)', value)\n",
    "        # Replace the string with the part after the comma\n",
    "        employment_df_yearly.at[index,\"GEO\"] = geo.group(1).strip()"
   ]
  },
  {
   "cell_type": "code",
   "execution_count": 17,
   "metadata": {},
   "outputs": [
    {
     "data": {
      "text/plain": [
       "array(['Canada', 'Newfoundland and Labrador', 'Prince Edward Island',\n",
       "       'Nova Scotia', 'New Brunswick', 'Quebec', 'Ontario', 'Manitoba',\n",
       "       'Saskatchewan', 'Alberta', 'British Columbia'], dtype=object)"
      ]
     },
     "execution_count": 17,
     "metadata": {},
     "output_type": "execute_result"
    }
   ],
   "source": [
    "employment_df_yearly.GEO.unique()"
   ]
  },
  {
   "cell_type": "markdown",
   "metadata": {},
   "source": [
    "### Data Visualization"
   ]
  },
  {
   "cell_type": "markdown",
   "metadata": {},
   "source": [
    "#### Total Employment Across Canada for all Job Categories"
   ]
  },
  {
   "cell_type": "markdown",
   "metadata": {},
   "source": [
    "##### Grouping For clear visualization"
   ]
  },
  {
   "cell_type": "code",
   "execution_count": 18,
   "metadata": {},
   "outputs": [],
   "source": [
    "employment_canada = employment_df_yearly[(employment_df_yearly['GEO']==\"Canada\") & (employment_df_yearly[\"National Occupational Classification (NOC)\"] == \"Total employed, all occupations\")]"
   ]
  },
  {
   "cell_type": "code",
   "execution_count": 19,
   "metadata": {},
   "outputs": [
    {
     "data": {
      "text/html": [
       "<div>\n",
       "<style scoped>\n",
       "    .dataframe tbody tr th:only-of-type {\n",
       "        vertical-align: middle;\n",
       "    }\n",
       "\n",
       "    .dataframe tbody tr th {\n",
       "        vertical-align: top;\n",
       "    }\n",
       "\n",
       "    .dataframe thead th {\n",
       "        text-align: right;\n",
       "    }\n",
       "</style>\n",
       "<table border=\"1\" class=\"dataframe\">\n",
       "  <thead>\n",
       "    <tr style=\"text-align: right;\">\n",
       "      <th></th>\n",
       "      <th>REF_DATE</th>\n",
       "      <th>GEO</th>\n",
       "      <th>National Occupational Classification (NOC)</th>\n",
       "      <th>VALUE</th>\n",
       "    </tr>\n",
       "  </thead>\n",
       "  <tbody>\n",
       "    <tr>\n",
       "      <th>690536</th>\n",
       "      <td>2019-01</td>\n",
       "      <td>Canada</td>\n",
       "      <td>Total employed, all occupations</td>\n",
       "      <td>18799.1</td>\n",
       "    </tr>\n",
       "    <tr>\n",
       "      <th>695020</th>\n",
       "      <td>2019-02</td>\n",
       "      <td>Canada</td>\n",
       "      <td>Total employed, all occupations</td>\n",
       "      <td>18741.0</td>\n",
       "    </tr>\n",
       "    <tr>\n",
       "      <th>699504</th>\n",
       "      <td>2019-03</td>\n",
       "      <td>Canada</td>\n",
       "      <td>Total employed, all occupations</td>\n",
       "      <td>18692.5</td>\n",
       "    </tr>\n",
       "    <tr>\n",
       "      <th>703988</th>\n",
       "      <td>2019-04</td>\n",
       "      <td>Canada</td>\n",
       "      <td>Total employed, all occupations</td>\n",
       "      <td>18793.3</td>\n",
       "    </tr>\n",
       "    <tr>\n",
       "      <th>708472</th>\n",
       "      <td>2019-05</td>\n",
       "      <td>Canada</td>\n",
       "      <td>Total employed, all occupations</td>\n",
       "      <td>18990.4</td>\n",
       "    </tr>\n",
       "  </tbody>\n",
       "</table>\n",
       "</div>"
      ],
      "text/plain": [
       "       REF_DATE     GEO National Occupational Classification (NOC)    VALUE\n",
       "690536  2019-01  Canada            Total employed, all occupations  18799.1\n",
       "695020  2019-02  Canada            Total employed, all occupations  18741.0\n",
       "699504  2019-03  Canada            Total employed, all occupations  18692.5\n",
       "703988  2019-04  Canada            Total employed, all occupations  18793.3\n",
       "708472  2019-05  Canada            Total employed, all occupations  18990.4"
      ]
     },
     "execution_count": 19,
     "metadata": {},
     "output_type": "execute_result"
    }
   ],
   "source": [
    "employment_canada.head()"
   ]
  },
  {
   "cell_type": "code",
   "execution_count": 20,
   "metadata": {},
   "outputs": [
    {
     "data": {
      "application/vnd.plotly.v1+json": {
       "config": {
        "plotlyServerURL": "https://plot.ly"
       },
       "data": [
        {
         "hovertemplate": "REF_DATE=%{x}<br>VALUE=%{y}<extra></extra>",
         "legendgroup": "",
         "line": {
          "color": "#636efa",
          "dash": "solid"
         },
         "marker": {
          "symbol": "circle"
         },
         "mode": "lines",
         "name": "",
         "orientation": "v",
         "showlegend": false,
         "textposition": "bottom right",
         "type": "scatter",
         "x": [
          "2019-01",
          "2019-02",
          "2019-03",
          "2019-04",
          "2019-05",
          "2019-06",
          "2019-07",
          "2019-08",
          "2019-09",
          "2019-10",
          "2019-11",
          "2019-12",
          "2020-01",
          "2020-02",
          "2020-03",
          "2020-04",
          "2020-05",
          "2020-06",
          "2020-07",
          "2020-08",
          "2020-09",
          "2020-10",
          "2020-11",
          "2020-12",
          "2021-01",
          "2021-02",
          "2021-03",
          "2021-04",
          "2021-05",
          "2021-06",
          "2021-07",
          "2021-08",
          "2021-09",
          "2021-10",
          "2021-11",
          "2021-12",
          "2022-01",
          "2022-02",
          "2022-03",
          "2022-04",
          "2022-05",
          "2022-06",
          "2022-07",
          "2022-08",
          "2022-09",
          "2022-10",
          "2022-11",
          "2022-12",
          "2023-01",
          "2023-02",
          "2023-03",
          "2023-04",
          "2023-05",
          "2023-06",
          "2023-07",
          "2023-08"
         ],
         "xaxis": "x",
         "y": [
          18799.1,
          18741,
          18692.5,
          18793.3,
          18990.4,
          19240,
          19388.5,
          19415.4,
          19350.9,
          19320.8,
          19245.3,
          19201.2,
          19062.5,
          18981.2,
          18527.3,
          17544.9,
          16752.6,
          16748.5,
          17462,
          18037.3,
          18303.1,
          18502.8,
          18623,
          18596.1,
          18374,
          18274.1,
          18308.1,
          18474.5,
          18622.5,
          18833.8,
          19072.8,
          19218.7,
          19233.7,
          19277.2,
          19345.3,
          19393.5,
          19250.3,
          19226.5,
          19219.4,
          19422.7,
          19626.4,
          19845.7,
          19991.6,
          19964.2,
          19864.9,
          19833,
          19818.9,
          19841.9,
          19786.7,
          19766.8,
          19774.8,
          19855.9,
          20041.6,
          20264.7,
          20416.4,
          20429.5
         ],
         "yaxis": "y"
        }
       ],
       "layout": {
        "legend": {
         "tracegroupgap": 0
        },
        "margin": {
         "t": 60
        },
        "template": {
         "data": {
          "bar": [
           {
            "error_x": {
             "color": "#2a3f5f"
            },
            "error_y": {
             "color": "#2a3f5f"
            },
            "marker": {
             "line": {
              "color": "#E5ECF6",
              "width": 0.5
             },
             "pattern": {
              "fillmode": "overlay",
              "size": 10,
              "solidity": 0.2
             }
            },
            "type": "bar"
           }
          ],
          "barpolar": [
           {
            "marker": {
             "line": {
              "color": "#E5ECF6",
              "width": 0.5
             },
             "pattern": {
              "fillmode": "overlay",
              "size": 10,
              "solidity": 0.2
             }
            },
            "type": "barpolar"
           }
          ],
          "carpet": [
           {
            "aaxis": {
             "endlinecolor": "#2a3f5f",
             "gridcolor": "white",
             "linecolor": "white",
             "minorgridcolor": "white",
             "startlinecolor": "#2a3f5f"
            },
            "baxis": {
             "endlinecolor": "#2a3f5f",
             "gridcolor": "white",
             "linecolor": "white",
             "minorgridcolor": "white",
             "startlinecolor": "#2a3f5f"
            },
            "type": "carpet"
           }
          ],
          "choropleth": [
           {
            "colorbar": {
             "outlinewidth": 0,
             "ticks": ""
            },
            "type": "choropleth"
           }
          ],
          "contour": [
           {
            "colorbar": {
             "outlinewidth": 0,
             "ticks": ""
            },
            "colorscale": [
             [
              0,
              "#0d0887"
             ],
             [
              0.1111111111111111,
              "#46039f"
             ],
             [
              0.2222222222222222,
              "#7201a8"
             ],
             [
              0.3333333333333333,
              "#9c179e"
             ],
             [
              0.4444444444444444,
              "#bd3786"
             ],
             [
              0.5555555555555556,
              "#d8576b"
             ],
             [
              0.6666666666666666,
              "#ed7953"
             ],
             [
              0.7777777777777778,
              "#fb9f3a"
             ],
             [
              0.8888888888888888,
              "#fdca26"
             ],
             [
              1,
              "#f0f921"
             ]
            ],
            "type": "contour"
           }
          ],
          "contourcarpet": [
           {
            "colorbar": {
             "outlinewidth": 0,
             "ticks": ""
            },
            "type": "contourcarpet"
           }
          ],
          "heatmap": [
           {
            "colorbar": {
             "outlinewidth": 0,
             "ticks": ""
            },
            "colorscale": [
             [
              0,
              "#0d0887"
             ],
             [
              0.1111111111111111,
              "#46039f"
             ],
             [
              0.2222222222222222,
              "#7201a8"
             ],
             [
              0.3333333333333333,
              "#9c179e"
             ],
             [
              0.4444444444444444,
              "#bd3786"
             ],
             [
              0.5555555555555556,
              "#d8576b"
             ],
             [
              0.6666666666666666,
              "#ed7953"
             ],
             [
              0.7777777777777778,
              "#fb9f3a"
             ],
             [
              0.8888888888888888,
              "#fdca26"
             ],
             [
              1,
              "#f0f921"
             ]
            ],
            "type": "heatmap"
           }
          ],
          "heatmapgl": [
           {
            "colorbar": {
             "outlinewidth": 0,
             "ticks": ""
            },
            "colorscale": [
             [
              0,
              "#0d0887"
             ],
             [
              0.1111111111111111,
              "#46039f"
             ],
             [
              0.2222222222222222,
              "#7201a8"
             ],
             [
              0.3333333333333333,
              "#9c179e"
             ],
             [
              0.4444444444444444,
              "#bd3786"
             ],
             [
              0.5555555555555556,
              "#d8576b"
             ],
             [
              0.6666666666666666,
              "#ed7953"
             ],
             [
              0.7777777777777778,
              "#fb9f3a"
             ],
             [
              0.8888888888888888,
              "#fdca26"
             ],
             [
              1,
              "#f0f921"
             ]
            ],
            "type": "heatmapgl"
           }
          ],
          "histogram": [
           {
            "marker": {
             "pattern": {
              "fillmode": "overlay",
              "size": 10,
              "solidity": 0.2
             }
            },
            "type": "histogram"
           }
          ],
          "histogram2d": [
           {
            "colorbar": {
             "outlinewidth": 0,
             "ticks": ""
            },
            "colorscale": [
             [
              0,
              "#0d0887"
             ],
             [
              0.1111111111111111,
              "#46039f"
             ],
             [
              0.2222222222222222,
              "#7201a8"
             ],
             [
              0.3333333333333333,
              "#9c179e"
             ],
             [
              0.4444444444444444,
              "#bd3786"
             ],
             [
              0.5555555555555556,
              "#d8576b"
             ],
             [
              0.6666666666666666,
              "#ed7953"
             ],
             [
              0.7777777777777778,
              "#fb9f3a"
             ],
             [
              0.8888888888888888,
              "#fdca26"
             ],
             [
              1,
              "#f0f921"
             ]
            ],
            "type": "histogram2d"
           }
          ],
          "histogram2dcontour": [
           {
            "colorbar": {
             "outlinewidth": 0,
             "ticks": ""
            },
            "colorscale": [
             [
              0,
              "#0d0887"
             ],
             [
              0.1111111111111111,
              "#46039f"
             ],
             [
              0.2222222222222222,
              "#7201a8"
             ],
             [
              0.3333333333333333,
              "#9c179e"
             ],
             [
              0.4444444444444444,
              "#bd3786"
             ],
             [
              0.5555555555555556,
              "#d8576b"
             ],
             [
              0.6666666666666666,
              "#ed7953"
             ],
             [
              0.7777777777777778,
              "#fb9f3a"
             ],
             [
              0.8888888888888888,
              "#fdca26"
             ],
             [
              1,
              "#f0f921"
             ]
            ],
            "type": "histogram2dcontour"
           }
          ],
          "mesh3d": [
           {
            "colorbar": {
             "outlinewidth": 0,
             "ticks": ""
            },
            "type": "mesh3d"
           }
          ],
          "parcoords": [
           {
            "line": {
             "colorbar": {
              "outlinewidth": 0,
              "ticks": ""
             }
            },
            "type": "parcoords"
           }
          ],
          "pie": [
           {
            "automargin": true,
            "type": "pie"
           }
          ],
          "scatter": [
           {
            "fillpattern": {
             "fillmode": "overlay",
             "size": 10,
             "solidity": 0.2
            },
            "type": "scatter"
           }
          ],
          "scatter3d": [
           {
            "line": {
             "colorbar": {
              "outlinewidth": 0,
              "ticks": ""
             }
            },
            "marker": {
             "colorbar": {
              "outlinewidth": 0,
              "ticks": ""
             }
            },
            "type": "scatter3d"
           }
          ],
          "scattercarpet": [
           {
            "marker": {
             "colorbar": {
              "outlinewidth": 0,
              "ticks": ""
             }
            },
            "type": "scattercarpet"
           }
          ],
          "scattergeo": [
           {
            "marker": {
             "colorbar": {
              "outlinewidth": 0,
              "ticks": ""
             }
            },
            "type": "scattergeo"
           }
          ],
          "scattergl": [
           {
            "marker": {
             "colorbar": {
              "outlinewidth": 0,
              "ticks": ""
             }
            },
            "type": "scattergl"
           }
          ],
          "scattermapbox": [
           {
            "marker": {
             "colorbar": {
              "outlinewidth": 0,
              "ticks": ""
             }
            },
            "type": "scattermapbox"
           }
          ],
          "scatterpolar": [
           {
            "marker": {
             "colorbar": {
              "outlinewidth": 0,
              "ticks": ""
             }
            },
            "type": "scatterpolar"
           }
          ],
          "scatterpolargl": [
           {
            "marker": {
             "colorbar": {
              "outlinewidth": 0,
              "ticks": ""
             }
            },
            "type": "scatterpolargl"
           }
          ],
          "scatterternary": [
           {
            "marker": {
             "colorbar": {
              "outlinewidth": 0,
              "ticks": ""
             }
            },
            "type": "scatterternary"
           }
          ],
          "surface": [
           {
            "colorbar": {
             "outlinewidth": 0,
             "ticks": ""
            },
            "colorscale": [
             [
              0,
              "#0d0887"
             ],
             [
              0.1111111111111111,
              "#46039f"
             ],
             [
              0.2222222222222222,
              "#7201a8"
             ],
             [
              0.3333333333333333,
              "#9c179e"
             ],
             [
              0.4444444444444444,
              "#bd3786"
             ],
             [
              0.5555555555555556,
              "#d8576b"
             ],
             [
              0.6666666666666666,
              "#ed7953"
             ],
             [
              0.7777777777777778,
              "#fb9f3a"
             ],
             [
              0.8888888888888888,
              "#fdca26"
             ],
             [
              1,
              "#f0f921"
             ]
            ],
            "type": "surface"
           }
          ],
          "table": [
           {
            "cells": {
             "fill": {
              "color": "#EBF0F8"
             },
             "line": {
              "color": "white"
             }
            },
            "header": {
             "fill": {
              "color": "#C8D4E3"
             },
             "line": {
              "color": "white"
             }
            },
            "type": "table"
           }
          ]
         },
         "layout": {
          "annotationdefaults": {
           "arrowcolor": "#2a3f5f",
           "arrowhead": 0,
           "arrowwidth": 1
          },
          "autotypenumbers": "strict",
          "coloraxis": {
           "colorbar": {
            "outlinewidth": 0,
            "ticks": ""
           }
          },
          "colorscale": {
           "diverging": [
            [
             0,
             "#8e0152"
            ],
            [
             0.1,
             "#c51b7d"
            ],
            [
             0.2,
             "#de77ae"
            ],
            [
             0.3,
             "#f1b6da"
            ],
            [
             0.4,
             "#fde0ef"
            ],
            [
             0.5,
             "#f7f7f7"
            ],
            [
             0.6,
             "#e6f5d0"
            ],
            [
             0.7,
             "#b8e186"
            ],
            [
             0.8,
             "#7fbc41"
            ],
            [
             0.9,
             "#4d9221"
            ],
            [
             1,
             "#276419"
            ]
           ],
           "sequential": [
            [
             0,
             "#0d0887"
            ],
            [
             0.1111111111111111,
             "#46039f"
            ],
            [
             0.2222222222222222,
             "#7201a8"
            ],
            [
             0.3333333333333333,
             "#9c179e"
            ],
            [
             0.4444444444444444,
             "#bd3786"
            ],
            [
             0.5555555555555556,
             "#d8576b"
            ],
            [
             0.6666666666666666,
             "#ed7953"
            ],
            [
             0.7777777777777778,
             "#fb9f3a"
            ],
            [
             0.8888888888888888,
             "#fdca26"
            ],
            [
             1,
             "#f0f921"
            ]
           ],
           "sequentialminus": [
            [
             0,
             "#0d0887"
            ],
            [
             0.1111111111111111,
             "#46039f"
            ],
            [
             0.2222222222222222,
             "#7201a8"
            ],
            [
             0.3333333333333333,
             "#9c179e"
            ],
            [
             0.4444444444444444,
             "#bd3786"
            ],
            [
             0.5555555555555556,
             "#d8576b"
            ],
            [
             0.6666666666666666,
             "#ed7953"
            ],
            [
             0.7777777777777778,
             "#fb9f3a"
            ],
            [
             0.8888888888888888,
             "#fdca26"
            ],
            [
             1,
             "#f0f921"
            ]
           ]
          },
          "colorway": [
           "#636efa",
           "#EF553B",
           "#00cc96",
           "#ab63fa",
           "#FFA15A",
           "#19d3f3",
           "#FF6692",
           "#B6E880",
           "#FF97FF",
           "#FECB52"
          ],
          "font": {
           "color": "#2a3f5f"
          },
          "geo": {
           "bgcolor": "white",
           "lakecolor": "white",
           "landcolor": "#E5ECF6",
           "showlakes": true,
           "showland": true,
           "subunitcolor": "white"
          },
          "hoverlabel": {
           "align": "left"
          },
          "hovermode": "closest",
          "mapbox": {
           "style": "light"
          },
          "paper_bgcolor": "white",
          "plot_bgcolor": "#E5ECF6",
          "polar": {
           "angularaxis": {
            "gridcolor": "white",
            "linecolor": "white",
            "ticks": ""
           },
           "bgcolor": "#E5ECF6",
           "radialaxis": {
            "gridcolor": "white",
            "linecolor": "white",
            "ticks": ""
           }
          },
          "scene": {
           "xaxis": {
            "backgroundcolor": "#E5ECF6",
            "gridcolor": "white",
            "gridwidth": 2,
            "linecolor": "white",
            "showbackground": true,
            "ticks": "",
            "zerolinecolor": "white"
           },
           "yaxis": {
            "backgroundcolor": "#E5ECF6",
            "gridcolor": "white",
            "gridwidth": 2,
            "linecolor": "white",
            "showbackground": true,
            "ticks": "",
            "zerolinecolor": "white"
           },
           "zaxis": {
            "backgroundcolor": "#E5ECF6",
            "gridcolor": "white",
            "gridwidth": 2,
            "linecolor": "white",
            "showbackground": true,
            "ticks": "",
            "zerolinecolor": "white"
           }
          },
          "shapedefaults": {
           "line": {
            "color": "#2a3f5f"
           }
          },
          "ternary": {
           "aaxis": {
            "gridcolor": "white",
            "linecolor": "white",
            "ticks": ""
           },
           "baxis": {
            "gridcolor": "white",
            "linecolor": "white",
            "ticks": ""
           },
           "bgcolor": "#E5ECF6",
           "caxis": {
            "gridcolor": "white",
            "linecolor": "white",
            "ticks": ""
           }
          },
          "title": {
           "x": 0.05
          },
          "xaxis": {
           "automargin": true,
           "gridcolor": "white",
           "linecolor": "white",
           "ticks": "",
           "title": {
            "standoff": 15
           },
           "zerolinecolor": "white",
           "zerolinewidth": 2
          },
          "yaxis": {
           "automargin": true,
           "gridcolor": "white",
           "linecolor": "white",
           "ticks": "",
           "title": {
            "standoff": 15
           },
           "zerolinecolor": "white",
           "zerolinewidth": 2
          }
         }
        },
        "title": {
         "text": "Employment for all occupations across Canada",
         "x": 0.5
        },
        "xaxis": {
         "anchor": "y",
         "domain": [
          0,
          1
         ],
         "title": {
          "text": "Reference Date"
         }
        },
        "yaxis": {
         "anchor": "x",
         "domain": [
          0,
          1
         ],
         "title": {
          "text": "Number of Employed Persons"
         }
        }
       }
      }
     },
     "metadata": {},
     "output_type": "display_data"
    }
   ],
   "source": [
    "fig = px.line(employment_canada, x=\"REF_DATE\", y=\"VALUE\")\n",
    "fig.update_layout(xaxis_title = \"Reference Date\", yaxis_title = \"Number of Employed Persons\", title = \"Employment for all occupations across Canada\"\n",
    ",title_x=0.5)\n",
    "fig.update_traces(textposition=\"bottom right\")\n",
    "fig.show()"
   ]
  },
  {
   "cell_type": "markdown",
   "metadata": {},
   "source": [
    "#### Employment According to Provinance for all Job Categories"
   ]
  },
  {
   "cell_type": "markdown",
   "metadata": {},
   "source": [
    "##### Grouping For clear visualization"
   ]
  },
  {
   "cell_type": "code",
   "execution_count": 21,
   "metadata": {},
   "outputs": [],
   "source": [
    "employment_canada_prov = employment_df_yearly[(employment_df_yearly['GEO']!=\"Canada\") & (employment_df_yearly[\"National Occupational Classification (NOC)\"] == \"Total employed, all occupations\")]"
   ]
  },
  {
   "cell_type": "code",
   "execution_count": 22,
   "metadata": {},
   "outputs": [
    {
     "data": {
      "text/html": [
       "<div>\n",
       "<style scoped>\n",
       "    .dataframe tbody tr th:only-of-type {\n",
       "        vertical-align: middle;\n",
       "    }\n",
       "\n",
       "    .dataframe tbody tr th {\n",
       "        vertical-align: top;\n",
       "    }\n",
       "\n",
       "    .dataframe thead th {\n",
       "        text-align: right;\n",
       "    }\n",
       "</style>\n",
       "<table border=\"1\" class=\"dataframe\">\n",
       "  <thead>\n",
       "    <tr style=\"text-align: right;\">\n",
       "      <th></th>\n",
       "      <th>REF_DATE</th>\n",
       "      <th>GEO</th>\n",
       "      <th>National Occupational Classification (NOC)</th>\n",
       "      <th>VALUE</th>\n",
       "    </tr>\n",
       "  </thead>\n",
       "  <tbody>\n",
       "    <tr>\n",
       "      <th>690595</th>\n",
       "      <td>2019-01</td>\n",
       "      <td>Newfoundland and Labrador</td>\n",
       "      <td>Total employed, all occupations</td>\n",
       "      <td>225.6</td>\n",
       "    </tr>\n",
       "    <tr>\n",
       "      <th>690654</th>\n",
       "      <td>2019-01</td>\n",
       "      <td>Newfoundland and Labrador</td>\n",
       "      <td>Total employed, all occupations</td>\n",
       "      <td>131.4</td>\n",
       "    </tr>\n",
       "    <tr>\n",
       "      <th>690713</th>\n",
       "      <td>2019-01</td>\n",
       "      <td>Newfoundland and Labrador</td>\n",
       "      <td>Total employed, all occupations</td>\n",
       "      <td>53.3</td>\n",
       "    </tr>\n",
       "    <tr>\n",
       "      <th>690772</th>\n",
       "      <td>2019-01</td>\n",
       "      <td>Newfoundland and Labrador</td>\n",
       "      <td>Total employed, all occupations</td>\n",
       "      <td>41.0</td>\n",
       "    </tr>\n",
       "    <tr>\n",
       "      <th>690831</th>\n",
       "      <td>2019-01</td>\n",
       "      <td>Prince Edward Island</td>\n",
       "      <td>Total employed, all occupations</td>\n",
       "      <td>74.3</td>\n",
       "    </tr>\n",
       "  </tbody>\n",
       "</table>\n",
       "</div>"
      ],
      "text/plain": [
       "       REF_DATE                        GEO  \\\n",
       "690595  2019-01  Newfoundland and Labrador   \n",
       "690654  2019-01  Newfoundland and Labrador   \n",
       "690713  2019-01  Newfoundland and Labrador   \n",
       "690772  2019-01  Newfoundland and Labrador   \n",
       "690831  2019-01       Prince Edward Island   \n",
       "\n",
       "       National Occupational Classification (NOC)  VALUE  \n",
       "690595            Total employed, all occupations  225.6  \n",
       "690654            Total employed, all occupations  131.4  \n",
       "690713            Total employed, all occupations   53.3  \n",
       "690772            Total employed, all occupations   41.0  \n",
       "690831            Total employed, all occupations   74.3  "
      ]
     },
     "execution_count": 22,
     "metadata": {},
     "output_type": "execute_result"
    }
   ],
   "source": [
    "employment_canada_prov.head()"
   ]
  },
  {
   "cell_type": "code",
   "execution_count": 23,
   "metadata": {},
   "outputs": [
    {
     "name": "stderr",
     "output_type": "stream",
     "text": [
      "C:\\Users\\Nada\\AppData\\Local\\Temp\\ipykernel_23696\\3064197228.py:1: FutureWarning:\n",
      "\n",
      "Indexing with multiple keys (implicitly converted to a tuple of keys) will be deprecated, use a list instead.\n",
      "\n"
     ]
    },
    {
     "data": {
      "text/html": [
       "<div>\n",
       "<style scoped>\n",
       "    .dataframe tbody tr th:only-of-type {\n",
       "        vertical-align: middle;\n",
       "    }\n",
       "\n",
       "    .dataframe tbody tr th {\n",
       "        vertical-align: top;\n",
       "    }\n",
       "\n",
       "    .dataframe thead th {\n",
       "        text-align: right;\n",
       "    }\n",
       "</style>\n",
       "<table border=\"1\" class=\"dataframe\">\n",
       "  <thead>\n",
       "    <tr style=\"text-align: right;\">\n",
       "      <th></th>\n",
       "      <th>GEO</th>\n",
       "      <th>REF_DATE</th>\n",
       "      <th>VALUE</th>\n",
       "    </tr>\n",
       "  </thead>\n",
       "  <tbody>\n",
       "    <tr>\n",
       "      <th>0</th>\n",
       "      <td>Alberta</td>\n",
       "      <td>2019-01</td>\n",
       "      <td>4564.7</td>\n",
       "    </tr>\n",
       "    <tr>\n",
       "      <th>1</th>\n",
       "      <td>Alberta</td>\n",
       "      <td>2019-02</td>\n",
       "      <td>4532.8</td>\n",
       "    </tr>\n",
       "    <tr>\n",
       "      <th>2</th>\n",
       "      <td>Alberta</td>\n",
       "      <td>2019-03</td>\n",
       "      <td>4516.8</td>\n",
       "    </tr>\n",
       "    <tr>\n",
       "      <th>3</th>\n",
       "      <td>Alberta</td>\n",
       "      <td>2019-04</td>\n",
       "      <td>4545.2</td>\n",
       "    </tr>\n",
       "    <tr>\n",
       "      <th>4</th>\n",
       "      <td>Alberta</td>\n",
       "      <td>2019-05</td>\n",
       "      <td>4591.3</td>\n",
       "    </tr>\n",
       "    <tr>\n",
       "      <th>...</th>\n",
       "      <td>...</td>\n",
       "      <td>...</td>\n",
       "      <td>...</td>\n",
       "    </tr>\n",
       "    <tr>\n",
       "      <th>555</th>\n",
       "      <td>Saskatchewan</td>\n",
       "      <td>2023-04</td>\n",
       "      <td>1158.8</td>\n",
       "    </tr>\n",
       "    <tr>\n",
       "      <th>556</th>\n",
       "      <td>Saskatchewan</td>\n",
       "      <td>2023-05</td>\n",
       "      <td>1171.0</td>\n",
       "    </tr>\n",
       "    <tr>\n",
       "      <th>557</th>\n",
       "      <td>Saskatchewan</td>\n",
       "      <td>2023-06</td>\n",
       "      <td>1188.6</td>\n",
       "    </tr>\n",
       "    <tr>\n",
       "      <th>558</th>\n",
       "      <td>Saskatchewan</td>\n",
       "      <td>2023-07</td>\n",
       "      <td>1196.3</td>\n",
       "    </tr>\n",
       "    <tr>\n",
       "      <th>559</th>\n",
       "      <td>Saskatchewan</td>\n",
       "      <td>2023-08</td>\n",
       "      <td>1193.2</td>\n",
       "    </tr>\n",
       "  </tbody>\n",
       "</table>\n",
       "<p>560 rows × 3 columns</p>\n",
       "</div>"
      ],
      "text/plain": [
       "              GEO REF_DATE   VALUE\n",
       "0         Alberta  2019-01  4564.7\n",
       "1         Alberta  2019-02  4532.8\n",
       "2         Alberta  2019-03  4516.8\n",
       "3         Alberta  2019-04  4545.2\n",
       "4         Alberta  2019-05  4591.3\n",
       "..            ...      ...     ...\n",
       "555  Saskatchewan  2023-04  1158.8\n",
       "556  Saskatchewan  2023-05  1171.0\n",
       "557  Saskatchewan  2023-06  1188.6\n",
       "558  Saskatchewan  2023-07  1196.3\n",
       "559  Saskatchewan  2023-08  1193.2\n",
       "\n",
       "[560 rows x 3 columns]"
      ]
     },
     "execution_count": 23,
     "metadata": {},
     "output_type": "execute_result"
    }
   ],
   "source": [
    "employment_canada_prov = employment_canada_prov.groupby(['GEO','REF_DATE'])['VALUE','National Occupational Classification (NOC)'].sum().reset_index()\n",
    "# print(sum_by_geo)\n",
    "employment_canada_prov"
   ]
  },
  {
   "cell_type": "code",
   "execution_count": 24,
   "metadata": {},
   "outputs": [
    {
     "data": {
      "application/vnd.plotly.v1+json": {
       "config": {
        "plotlyServerURL": "https://plot.ly"
       },
       "data": [
        {
         "hovertemplate": "GEO=Alberta<br>REF_DATE=%{x}<br>VALUE=%{y}<extra></extra>",
         "legendgroup": "Alberta",
         "line": {
          "color": "#636efa",
          "dash": "solid"
         },
         "marker": {
          "symbol": "circle"
         },
         "mode": "lines",
         "name": "Alberta",
         "orientation": "v",
         "showlegend": true,
         "textposition": "bottom right",
         "type": "scatter",
         "x": [
          "2019-01",
          "2019-02",
          "2019-03",
          "2019-04",
          "2019-05",
          "2019-06",
          "2019-07",
          "2019-08",
          "2019-09",
          "2019-10",
          "2019-11",
          "2019-12",
          "2020-01",
          "2020-02",
          "2020-03",
          "2020-04",
          "2020-05",
          "2020-06",
          "2020-07",
          "2020-08",
          "2020-09",
          "2020-10",
          "2020-11",
          "2020-12",
          "2021-01",
          "2021-02",
          "2021-03",
          "2021-04",
          "2021-05",
          "2021-06",
          "2021-07",
          "2021-08",
          "2021-09",
          "2021-10",
          "2021-11",
          "2021-12",
          "2022-01",
          "2022-02",
          "2022-03",
          "2022-04",
          "2022-05",
          "2022-06",
          "2022-07",
          "2022-08",
          "2022-09",
          "2022-10",
          "2022-11",
          "2022-12",
          "2023-01",
          "2023-02",
          "2023-03",
          "2023-04",
          "2023-05",
          "2023-06",
          "2023-07",
          "2023-08"
         ],
         "xaxis": "x",
         "y": [
          4564.7,
          4532.8,
          4516.8,
          4545.2,
          4591.3,
          4647.4,
          4674.3,
          4669.5,
          4658,
          4660.5,
          4654.4,
          4640.1,
          4579.4,
          4549.3,
          4440.8,
          4225.7,
          4035.8,
          4004,
          4149.3,
          4264.5,
          4323.8,
          4367.3,
          4390.3,
          4380.8,
          4343.2,
          4341.4,
          4379.9,
          4421.2,
          4469.9,
          4505.1,
          4540.7,
          4562.1,
          4583.6,
          4604.6,
          4608.7,
          4608.4,
          4596,
          4609.3,
          4616,
          4655.5,
          4717.299999999999,
          4786.9,
          4832.9,
          4831.9,
          4812.4,
          4809.4,
          4797.3,
          4793.900000000001,
          4780.900000000001,
          4785.3,
          4803.9,
          4825.4,
          4881.5,
          4931.8,
          4982.099999999999,
          5002.5
         ],
         "yaxis": "y"
        },
        {
         "hovertemplate": "GEO=British Columbia<br>REF_DATE=%{x}<br>VALUE=%{y}<extra></extra>",
         "legendgroup": "British Columbia",
         "line": {
          "color": "#EF553B",
          "dash": "solid"
         },
         "marker": {
          "symbol": "circle"
         },
         "mode": "lines",
         "name": "British Columbia",
         "orientation": "v",
         "showlegend": true,
         "textposition": "bottom right",
         "type": "scatter",
         "x": [
          "2019-01",
          "2019-02",
          "2019-03",
          "2019-04",
          "2019-05",
          "2019-06",
          "2019-07",
          "2019-08",
          "2019-09",
          "2019-10",
          "2019-11",
          "2019-12",
          "2020-01",
          "2020-02",
          "2020-03",
          "2020-04",
          "2020-05",
          "2020-06",
          "2020-07",
          "2020-08",
          "2020-09",
          "2020-10",
          "2020-11",
          "2020-12",
          "2021-01",
          "2021-02",
          "2021-03",
          "2021-04",
          "2021-05",
          "2021-06",
          "2021-07",
          "2021-08",
          "2021-09",
          "2021-10",
          "2021-11",
          "2021-12",
          "2022-01",
          "2022-02",
          "2022-03",
          "2022-04",
          "2022-05",
          "2022-06",
          "2022-07",
          "2022-08",
          "2022-09",
          "2022-10",
          "2022-11",
          "2022-12",
          "2023-01",
          "2023-02",
          "2023-03",
          "2023-04",
          "2023-05",
          "2023-06",
          "2023-07",
          "2023-08"
         ],
         "xaxis": "x",
         "y": [
          5278.1,
          5279.5,
          5283.2,
          5303.7,
          5345.3,
          5398.1,
          5432.1,
          5424.7,
          5384.8,
          5376.8,
          5360,
          5355.5,
          5311.3,
          5287.2,
          5155.6,
          4880.3,
          4652,
          4638.3,
          4829,
          4973.3,
          5057.6,
          5128.1,
          5199.3,
          5222.099999999999,
          5204.3,
          5202.8,
          5226.6,
          5244.900000000001,
          5258.7,
          5294.5,
          5350.9,
          5391.4,
          5392.4,
          5395.5,
          5403.8,
          5397.5,
          5371.099999999999,
          5372.6,
          5393.3,
          5438.4,
          5479.4,
          5520.8,
          5554,
          5548.2,
          5545.4,
          5542.2,
          5540.099999999999,
          5523.5,
          5490.700000000001,
          5481.4,
          5486.4,
          5512.2,
          5546.7,
          5582.1,
          5604.9,
          5609.5
         ],
         "yaxis": "y"
        },
        {
         "hovertemplate": "GEO=Manitoba<br>REF_DATE=%{x}<br>VALUE=%{y}<extra></extra>",
         "legendgroup": "Manitoba",
         "line": {
          "color": "#00cc96",
          "dash": "solid"
         },
         "marker": {
          "symbol": "circle"
         },
         "mode": "lines",
         "name": "Manitoba",
         "orientation": "v",
         "showlegend": true,
         "textposition": "bottom right",
         "type": "scatter",
         "x": [
          "2019-01",
          "2019-02",
          "2019-03",
          "2019-04",
          "2019-05",
          "2019-06",
          "2019-07",
          "2019-08",
          "2019-09",
          "2019-10",
          "2019-11",
          "2019-12",
          "2020-01",
          "2020-02",
          "2020-03",
          "2020-04",
          "2020-05",
          "2020-06",
          "2020-07",
          "2020-08",
          "2020-09",
          "2020-10",
          "2020-11",
          "2020-12",
          "2021-01",
          "2021-02",
          "2021-03",
          "2021-04",
          "2021-05",
          "2021-06",
          "2021-07",
          "2021-08",
          "2021-09",
          "2021-10",
          "2021-11",
          "2021-12",
          "2022-01",
          "2022-02",
          "2022-03",
          "2022-04",
          "2022-05",
          "2022-06",
          "2022-07",
          "2022-08",
          "2022-09",
          "2022-10",
          "2022-11",
          "2022-12",
          "2023-01",
          "2023-02",
          "2023-03",
          "2023-04",
          "2023-05",
          "2023-06",
          "2023-07",
          "2023-08"
         ],
         "xaxis": "x",
         "y": [
          1311.6,
          1307.8,
          1307.1000000000001,
          1310.6,
          1323.5,
          1336.6,
          1339.8,
          1336.8,
          1328.2,
          1328.6,
          1322.1,
          1319.2,
          1315.7,
          1318.7,
          1300.8999999999999,
          1242.8,
          1198.7,
          1197,
          1240.1,
          1271.9,
          1290.4,
          1302.4,
          1295,
          1272.7,
          1251.3,
          1256.2,
          1269.6,
          1290.7,
          1306.1,
          1316.6999999999998,
          1323.4,
          1321.8,
          1326.8999999999999,
          1331.3,
          1335.6,
          1336.2,
          1332.2,
          1337.4,
          1337.5,
          1341.6,
          1349.1,
          1363,
          1370.3000000000002,
          1363,
          1356,
          1358.5,
          1362.5,
          1363.4,
          1357.3,
          1358.4,
          1363.5,
          1368.6,
          1384.1000000000001,
          1398.8,
          1405.8,
          1398.8
         ],
         "yaxis": "y"
        },
        {
         "hovertemplate": "GEO=New Brunswick<br>REF_DATE=%{x}<br>VALUE=%{y}<extra></extra>",
         "legendgroup": "New Brunswick",
         "line": {
          "color": "#ab63fa",
          "dash": "solid"
         },
         "marker": {
          "symbol": "circle"
         },
         "mode": "lines",
         "name": "New Brunswick",
         "orientation": "v",
         "showlegend": true,
         "textposition": "bottom right",
         "type": "scatter",
         "x": [
          "2019-01",
          "2019-02",
          "2019-03",
          "2019-04",
          "2019-05",
          "2019-06",
          "2019-07",
          "2019-08",
          "2019-09",
          "2019-10",
          "2019-11",
          "2019-12",
          "2020-01",
          "2020-02",
          "2020-03",
          "2020-04",
          "2020-05",
          "2020-06",
          "2020-07",
          "2020-08",
          "2020-09",
          "2020-10",
          "2020-11",
          "2020-12",
          "2021-01",
          "2021-02",
          "2021-03",
          "2021-04",
          "2021-05",
          "2021-06",
          "2021-07",
          "2021-08",
          "2021-09",
          "2021-10",
          "2021-11",
          "2021-12",
          "2022-01",
          "2022-02",
          "2022-03",
          "2022-04",
          "2022-05",
          "2022-06",
          "2022-07",
          "2022-08",
          "2022-09",
          "2022-10",
          "2022-11",
          "2022-12",
          "2023-01",
          "2023-02",
          "2023-03",
          "2023-04",
          "2023-05",
          "2023-06",
          "2023-07",
          "2023-08"
         ],
         "xaxis": "x",
         "y": [
          708.6,
          701.4,
          700.7,
          703.6,
          718.2,
          734.9,
          747.2,
          751.5,
          747.3,
          745.2,
          734.3000000000001,
          725.3,
          716.4,
          713.6999999999999,
          698.9,
          665.5,
          650.9,
          671.9,
          712.4,
          733.2,
          729.1,
          727.2,
          723,
          719.4,
          712.9,
          705.8,
          701.6,
          705.2,
          719,
          736.3000000000001,
          745.8,
          745.3,
          740.8,
          738.8,
          736.1,
          729.7,
          715.4,
          707.3,
          705.2,
          718.2,
          736.8,
          758.4,
          769.7,
          774.1,
          771.2,
          770.3000000000001,
          761.1,
          753.7,
          743.2,
          741.1,
          741.2,
          747.5,
          763,
          779.4,
          794,
          797.7
         ],
         "yaxis": "y"
        },
        {
         "hovertemplate": "GEO=Newfoundland and Labrador<br>REF_DATE=%{x}<br>VALUE=%{y}<extra></extra>",
         "legendgroup": "Newfoundland and Labrador",
         "line": {
          "color": "#FFA15A",
          "dash": "solid"
         },
         "marker": {
          "symbol": "circle"
         },
         "mode": "lines",
         "name": "Newfoundland and Labrador",
         "orientation": "v",
         "showlegend": true,
         "textposition": "bottom right",
         "type": "scatter",
         "x": [
          "2019-01",
          "2019-02",
          "2019-03",
          "2019-04",
          "2019-05",
          "2019-06",
          "2019-07",
          "2019-08",
          "2019-09",
          "2019-10",
          "2019-11",
          "2019-12",
          "2020-01",
          "2020-02",
          "2020-03",
          "2020-04",
          "2020-05",
          "2020-06",
          "2020-07",
          "2020-08",
          "2020-09",
          "2020-10",
          "2020-11",
          "2020-12",
          "2021-01",
          "2021-02",
          "2021-03",
          "2021-04",
          "2021-05",
          "2021-06",
          "2021-07",
          "2021-08",
          "2021-09",
          "2021-10",
          "2021-11",
          "2021-12",
          "2022-01",
          "2022-02",
          "2022-03",
          "2022-04",
          "2022-05",
          "2022-06",
          "2022-07",
          "2022-08",
          "2022-09",
          "2022-10",
          "2022-11",
          "2022-12",
          "2023-01",
          "2023-02",
          "2023-03",
          "2023-04",
          "2023-05",
          "2023-06",
          "2023-07",
          "2023-08"
         ],
         "xaxis": "x",
         "y": [
          451.3,
          447.5,
          444.1,
          447.5,
          456,
          466.1,
          475.6,
          479.1,
          477.4,
          470.4,
          461.4,
          451.2,
          440.8,
          433.5,
          426.2,
          407,
          397.2,
          400.6,
          421.2,
          438.2,
          445.6,
          452.5,
          453.70000000000005,
          451.6,
          443,
          424.4,
          416.70000000000005,
          417.2,
          433.7,
          449.8,
          462.5,
          467.2,
          463.4,
          457.29999999999995,
          455.7,
          452.5,
          442.1,
          434.5,
          430.2,
          437.9,
          452.2,
          469.8,
          485,
          488,
          485.9,
          481.4,
          476.9,
          474,
          462.6,
          454.4,
          447.3,
          452.90000000000003,
          461.4,
          475.4,
          488.8,
          496
         ],
         "yaxis": "y"
        },
        {
         "hovertemplate": "GEO=Nova Scotia<br>REF_DATE=%{x}<br>VALUE=%{y}<extra></extra>",
         "legendgroup": "Nova Scotia",
         "line": {
          "color": "#19d3f3",
          "dash": "solid"
         },
         "marker": {
          "symbol": "circle"
         },
         "mode": "lines",
         "name": "Nova Scotia",
         "orientation": "v",
         "showlegend": true,
         "textposition": "bottom right",
         "type": "scatter",
         "x": [
          "2019-01",
          "2019-02",
          "2019-03",
          "2019-04",
          "2019-05",
          "2019-06",
          "2019-07",
          "2019-08",
          "2019-09",
          "2019-10",
          "2019-11",
          "2019-12",
          "2020-01",
          "2020-02",
          "2020-03",
          "2020-04",
          "2020-05",
          "2020-06",
          "2020-07",
          "2020-08",
          "2020-09",
          "2020-10",
          "2020-11",
          "2020-12",
          "2021-01",
          "2021-02",
          "2021-03",
          "2021-04",
          "2021-05",
          "2021-06",
          "2021-07",
          "2021-08",
          "2021-09",
          "2021-10",
          "2021-11",
          "2021-12",
          "2022-01",
          "2022-02",
          "2022-03",
          "2022-04",
          "2022-05",
          "2022-06",
          "2022-07",
          "2022-08",
          "2022-09",
          "2022-10",
          "2022-11",
          "2022-12",
          "2023-01",
          "2023-02",
          "2023-03",
          "2023-04",
          "2023-05",
          "2023-06",
          "2023-07",
          "2023-08"
         ],
         "xaxis": "x",
         "y": [
          850,
          844,
          839.5,
          844,
          860.7,
          880.3,
          893.4000000000001,
          893.8,
          888,
          884.3,
          877.4,
          872.3,
          862.8,
          859.2,
          838.4,
          797.4,
          767.1,
          776.1,
          813.8,
          841.4,
          853.7,
          860,
          867.3,
          863.3,
          860.7,
          856.6,
          858,
          862.4000000000001,
          860.5,
          872.3,
          882.5,
          896.8,
          896,
          893,
          889,
          885.3,
          878.1,
          876.2,
          873.8,
          883.8,
          899,
          918.2,
          927.4,
          925.5,
          919.3,
          915.4,
          916.5,
          917.7,
          915.9000000000001,
          911.9,
          909.4000000000001,
          913.1,
          922.2,
          935.2,
          943.6,
          943.4
         ],
         "yaxis": "y"
        },
        {
         "hovertemplate": "GEO=Ontario<br>REF_DATE=%{x}<br>VALUE=%{y}<extra></extra>",
         "legendgroup": "Ontario",
         "line": {
          "color": "#FF6692",
          "dash": "solid"
         },
         "marker": {
          "symbol": "circle"
         },
         "mode": "lines",
         "name": "Ontario",
         "orientation": "v",
         "showlegend": true,
         "textposition": "bottom right",
         "type": "scatter",
         "x": [
          "2019-01",
          "2019-02",
          "2019-03",
          "2019-04",
          "2019-05",
          "2019-06",
          "2019-07",
          "2019-08",
          "2019-09",
          "2019-10",
          "2019-11",
          "2019-12",
          "2020-01",
          "2020-02",
          "2020-03",
          "2020-04",
          "2020-05",
          "2020-06",
          "2020-07",
          "2020-08",
          "2020-09",
          "2020-10",
          "2020-11",
          "2020-12",
          "2021-01",
          "2021-02",
          "2021-03",
          "2021-04",
          "2021-05",
          "2021-06",
          "2021-07",
          "2021-08",
          "2021-09",
          "2021-10",
          "2021-11",
          "2021-12",
          "2022-01",
          "2022-02",
          "2022-03",
          "2022-04",
          "2022-05",
          "2022-06",
          "2022-07",
          "2022-08",
          "2022-09",
          "2022-10",
          "2022-11",
          "2022-12",
          "2023-01",
          "2023-02",
          "2023-03",
          "2023-04",
          "2023-05",
          "2023-06",
          "2023-07",
          "2023-08"
         ],
         "xaxis": "x",
         "y": [
          14578.699999999999,
          14556.9,
          14513.9,
          14588.1,
          14733.7,
          14921.8,
          15019.8,
          15046.5,
          15010.1,
          15002.4,
          14976.5,
          14987.7,
          14943.1,
          14884.3,
          14512.5,
          13770.6,
          13073.3,
          12996.9,
          13423.8,
          13901.8,
          14150.9,
          14368.2,
          14510.4,
          14546.6,
          14360.9,
          14249.7,
          14258.9,
          14394.2,
          14475.4,
          14586.1,
          14783.6,
          14950.5,
          15006.3,
          15077,
          15180.1,
          15295,
          15190.300000000001,
          15177.7,
          15146.9,
          15340,
          15477.2,
          15618.199999999999,
          15687.300000000001,
          15650.9,
          15533.199999999999,
          15487.199999999999,
          15477.6,
          15554.4,
          15553.2,
          15561,
          15562.6,
          15639.300000000001,
          15765.1,
          15942.5,
          16033.699999999999,
          16040.6
         ],
         "yaxis": "y"
        },
        {
         "hovertemplate": "GEO=Prince Edward Island<br>REF_DATE=%{x}<br>VALUE=%{y}<extra></extra>",
         "legendgroup": "Prince Edward Island",
         "line": {
          "color": "#B6E880",
          "dash": "solid"
         },
         "marker": {
          "symbol": "circle"
         },
         "mode": "lines",
         "name": "Prince Edward Island",
         "orientation": "v",
         "showlegend": true,
         "textposition": "bottom right",
         "type": "scatter",
         "x": [
          "2019-01",
          "2019-02",
          "2019-03",
          "2019-04",
          "2019-05",
          "2019-06",
          "2019-07",
          "2019-08",
          "2019-09",
          "2019-10",
          "2019-11",
          "2019-12",
          "2020-01",
          "2020-02",
          "2020-03",
          "2020-04",
          "2020-05",
          "2020-06",
          "2020-07",
          "2020-08",
          "2020-09",
          "2020-10",
          "2020-11",
          "2020-12",
          "2021-01",
          "2021-02",
          "2021-03",
          "2021-04",
          "2021-05",
          "2021-06",
          "2021-07",
          "2021-08",
          "2021-09",
          "2021-10",
          "2021-11",
          "2021-12",
          "2022-01",
          "2022-02",
          "2022-03",
          "2022-04",
          "2022-05",
          "2022-06",
          "2022-07",
          "2022-08",
          "2022-09",
          "2022-10",
          "2022-11",
          "2022-12",
          "2023-01",
          "2023-02",
          "2023-03",
          "2023-04",
          "2023-05",
          "2023-06",
          "2023-07",
          "2023-08"
         ],
         "xaxis": "x",
         "y": [
          74.3,
          73.4,
          73.4,
          74.2,
          77.1,
          80.5,
          83.9,
          85,
          84.4,
          83.3,
          81.3,
          79.8,
          78.3,
          77.6,
          75.7,
          72.1,
          71.4,
          74.1,
          78.8,
          81.5,
          81,
          80.3,
          78.1,
          76.4,
          74.7,
          73.7,
          73.7,
          74.3,
          77.3,
          80.6,
          83.7,
          84.7,
          83.9,
          83,
          81.7,
          81.2,
          79.6,
          78.8,
          78.5,
          79.6,
          83,
          87.2,
          90.3,
          90.7,
          88,
          87.1,
          84,
          83.1,
          80.8,
          80.8,
          81.2,
          83,
          87,
          90.2,
          92.9,
          93.8
         ],
         "yaxis": "y"
        },
        {
         "hovertemplate": "GEO=Quebec<br>REF_DATE=%{x}<br>VALUE=%{y}<extra></extra>",
         "legendgroup": "Quebec",
         "line": {
          "color": "#FF97FF",
          "dash": "solid"
         },
         "marker": {
          "symbol": "circle"
         },
         "mode": "lines",
         "name": "Quebec",
         "orientation": "v",
         "showlegend": true,
         "textposition": "bottom right",
         "type": "scatter",
         "x": [
          "2019-01",
          "2019-02",
          "2019-03",
          "2019-04",
          "2019-05",
          "2019-06",
          "2019-07",
          "2019-08",
          "2019-09",
          "2019-10",
          "2019-11",
          "2019-12",
          "2020-01",
          "2020-02",
          "2020-03",
          "2020-04",
          "2020-05",
          "2020-06",
          "2020-07",
          "2020-08",
          "2020-09",
          "2020-10",
          "2020-11",
          "2020-12",
          "2021-01",
          "2021-02",
          "2021-03",
          "2021-04",
          "2021-05",
          "2021-06",
          "2021-07",
          "2021-08",
          "2021-09",
          "2021-10",
          "2021-11",
          "2021-12",
          "2022-01",
          "2022-02",
          "2022-03",
          "2022-04",
          "2022-05",
          "2022-06",
          "2022-07",
          "2022-08",
          "2022-09",
          "2022-10",
          "2022-11",
          "2022-12",
          "2023-01",
          "2023-02",
          "2023-03",
          "2023-04",
          "2023-05",
          "2023-06",
          "2023-07",
          "2023-08"
         ],
         "xaxis": "x",
         "y": [
          8512.2,
          8478.7,
          8446.300000000001,
          8503.8,
          8591.2,
          8712.1,
          8797.8,
          8829.1,
          8812.8,
          8778.2,
          8717.300000000001,
          8674.6,
          8594.5,
          8568.1,
          8357.8,
          7835.6,
          7506.6,
          7582.4,
          8052.3,
          8329.6,
          8423.3,
          8461.1,
          8469.4,
          8411.300000000001,
          8265.199999999999,
          8215.5,
          8211.9,
          8313.6,
          8397.9,
          8554.1,
          8688.6,
          8730.2,
          8690.5,
          8689.300000000001,
          8724,
          8730.199999999999,
          8629.7,
          8587.4,
          8582.9,
          8666,
          8754.1,
          8837.5,
          8922.5,
          8916.1,
          8893.3,
          8891.5,
          8907.5,
          8911.2,
          8887.6,
          8858,
          8851.9,
          8865.3,
          8950.3,
          9050.4,
          9131.7,
          9125.8
         ],
         "yaxis": "y"
        },
        {
         "hovertemplate": "GEO=Saskatchewan<br>REF_DATE=%{x}<br>VALUE=%{y}<extra></extra>",
         "legendgroup": "Saskatchewan",
         "line": {
          "color": "#FECB52",
          "dash": "solid"
         },
         "marker": {
          "symbol": "circle"
         },
         "mode": "lines",
         "name": "Saskatchewan",
         "orientation": "v",
         "showlegend": true,
         "textposition": "bottom right",
         "type": "scatter",
         "x": [
          "2019-01",
          "2019-02",
          "2019-03",
          "2019-04",
          "2019-05",
          "2019-06",
          "2019-07",
          "2019-08",
          "2019-09",
          "2019-10",
          "2019-11",
          "2019-12",
          "2020-01",
          "2020-02",
          "2020-03",
          "2020-04",
          "2020-05",
          "2020-06",
          "2020-07",
          "2020-08",
          "2020-09",
          "2020-10",
          "2020-11",
          "2020-12",
          "2021-01",
          "2021-02",
          "2021-03",
          "2021-04",
          "2021-05",
          "2021-06",
          "2021-07",
          "2021-08",
          "2021-09",
          "2021-10",
          "2021-11",
          "2021-12",
          "2022-01",
          "2022-02",
          "2022-03",
          "2022-04",
          "2022-05",
          "2022-06",
          "2022-07",
          "2022-08",
          "2022-09",
          "2022-10",
          "2022-11",
          "2022-12",
          "2023-01",
          "2023-02",
          "2023-03",
          "2023-04",
          "2023-05",
          "2023-06",
          "2023-07",
          "2023-08"
         ],
         "xaxis": "x",
         "y": [
          1137.8,
          1129,
          1129,
          1133.9,
          1148.4,
          1162.7,
          1169.3,
          1169.9,
          1166.4,
          1168.4,
          1164.6000000000001,
          1157.3,
          1146.2,
          1137.5,
          1119.2,
          1070.6,
          1032.4,
          1032.4,
          1072.9,
          1103.6,
          1115.8,
          1123,
          1124.5,
          1112.5,
          1098.6,
          1090.4,
          1088.6,
          1094.6999999999998,
          1112.4,
          1133.9,
          1142.3,
          1144.8,
          1141.6,
          1143.3000000000002,
          1134.8,
          1129.7,
          1125.9,
          1131.8999999999999,
          1134.5,
          1142.4,
          1158.6999999999998,
          1180.4,
          1190.7,
          1186.6,
          1174.5,
          1172.2,
          1166.5,
          1163,
          1157.9,
          1157.8,
          1157.9,
          1158.8,
          1171,
          1188.6,
          1196.3,
          1193.2
         ],
         "yaxis": "y"
        }
       ],
       "layout": {
        "legend": {
         "title": {
          "text": "GEO"
         },
         "tracegroupgap": 0
        },
        "margin": {
         "t": 60
        },
        "template": {
         "data": {
          "bar": [
           {
            "error_x": {
             "color": "#2a3f5f"
            },
            "error_y": {
             "color": "#2a3f5f"
            },
            "marker": {
             "line": {
              "color": "#E5ECF6",
              "width": 0.5
             },
             "pattern": {
              "fillmode": "overlay",
              "size": 10,
              "solidity": 0.2
             }
            },
            "type": "bar"
           }
          ],
          "barpolar": [
           {
            "marker": {
             "line": {
              "color": "#E5ECF6",
              "width": 0.5
             },
             "pattern": {
              "fillmode": "overlay",
              "size": 10,
              "solidity": 0.2
             }
            },
            "type": "barpolar"
           }
          ],
          "carpet": [
           {
            "aaxis": {
             "endlinecolor": "#2a3f5f",
             "gridcolor": "white",
             "linecolor": "white",
             "minorgridcolor": "white",
             "startlinecolor": "#2a3f5f"
            },
            "baxis": {
             "endlinecolor": "#2a3f5f",
             "gridcolor": "white",
             "linecolor": "white",
             "minorgridcolor": "white",
             "startlinecolor": "#2a3f5f"
            },
            "type": "carpet"
           }
          ],
          "choropleth": [
           {
            "colorbar": {
             "outlinewidth": 0,
             "ticks": ""
            },
            "type": "choropleth"
           }
          ],
          "contour": [
           {
            "colorbar": {
             "outlinewidth": 0,
             "ticks": ""
            },
            "colorscale": [
             [
              0,
              "#0d0887"
             ],
             [
              0.1111111111111111,
              "#46039f"
             ],
             [
              0.2222222222222222,
              "#7201a8"
             ],
             [
              0.3333333333333333,
              "#9c179e"
             ],
             [
              0.4444444444444444,
              "#bd3786"
             ],
             [
              0.5555555555555556,
              "#d8576b"
             ],
             [
              0.6666666666666666,
              "#ed7953"
             ],
             [
              0.7777777777777778,
              "#fb9f3a"
             ],
             [
              0.8888888888888888,
              "#fdca26"
             ],
             [
              1,
              "#f0f921"
             ]
            ],
            "type": "contour"
           }
          ],
          "contourcarpet": [
           {
            "colorbar": {
             "outlinewidth": 0,
             "ticks": ""
            },
            "type": "contourcarpet"
           }
          ],
          "heatmap": [
           {
            "colorbar": {
             "outlinewidth": 0,
             "ticks": ""
            },
            "colorscale": [
             [
              0,
              "#0d0887"
             ],
             [
              0.1111111111111111,
              "#46039f"
             ],
             [
              0.2222222222222222,
              "#7201a8"
             ],
             [
              0.3333333333333333,
              "#9c179e"
             ],
             [
              0.4444444444444444,
              "#bd3786"
             ],
             [
              0.5555555555555556,
              "#d8576b"
             ],
             [
              0.6666666666666666,
              "#ed7953"
             ],
             [
              0.7777777777777778,
              "#fb9f3a"
             ],
             [
              0.8888888888888888,
              "#fdca26"
             ],
             [
              1,
              "#f0f921"
             ]
            ],
            "type": "heatmap"
           }
          ],
          "heatmapgl": [
           {
            "colorbar": {
             "outlinewidth": 0,
             "ticks": ""
            },
            "colorscale": [
             [
              0,
              "#0d0887"
             ],
             [
              0.1111111111111111,
              "#46039f"
             ],
             [
              0.2222222222222222,
              "#7201a8"
             ],
             [
              0.3333333333333333,
              "#9c179e"
             ],
             [
              0.4444444444444444,
              "#bd3786"
             ],
             [
              0.5555555555555556,
              "#d8576b"
             ],
             [
              0.6666666666666666,
              "#ed7953"
             ],
             [
              0.7777777777777778,
              "#fb9f3a"
             ],
             [
              0.8888888888888888,
              "#fdca26"
             ],
             [
              1,
              "#f0f921"
             ]
            ],
            "type": "heatmapgl"
           }
          ],
          "histogram": [
           {
            "marker": {
             "pattern": {
              "fillmode": "overlay",
              "size": 10,
              "solidity": 0.2
             }
            },
            "type": "histogram"
           }
          ],
          "histogram2d": [
           {
            "colorbar": {
             "outlinewidth": 0,
             "ticks": ""
            },
            "colorscale": [
             [
              0,
              "#0d0887"
             ],
             [
              0.1111111111111111,
              "#46039f"
             ],
             [
              0.2222222222222222,
              "#7201a8"
             ],
             [
              0.3333333333333333,
              "#9c179e"
             ],
             [
              0.4444444444444444,
              "#bd3786"
             ],
             [
              0.5555555555555556,
              "#d8576b"
             ],
             [
              0.6666666666666666,
              "#ed7953"
             ],
             [
              0.7777777777777778,
              "#fb9f3a"
             ],
             [
              0.8888888888888888,
              "#fdca26"
             ],
             [
              1,
              "#f0f921"
             ]
            ],
            "type": "histogram2d"
           }
          ],
          "histogram2dcontour": [
           {
            "colorbar": {
             "outlinewidth": 0,
             "ticks": ""
            },
            "colorscale": [
             [
              0,
              "#0d0887"
             ],
             [
              0.1111111111111111,
              "#46039f"
             ],
             [
              0.2222222222222222,
              "#7201a8"
             ],
             [
              0.3333333333333333,
              "#9c179e"
             ],
             [
              0.4444444444444444,
              "#bd3786"
             ],
             [
              0.5555555555555556,
              "#d8576b"
             ],
             [
              0.6666666666666666,
              "#ed7953"
             ],
             [
              0.7777777777777778,
              "#fb9f3a"
             ],
             [
              0.8888888888888888,
              "#fdca26"
             ],
             [
              1,
              "#f0f921"
             ]
            ],
            "type": "histogram2dcontour"
           }
          ],
          "mesh3d": [
           {
            "colorbar": {
             "outlinewidth": 0,
             "ticks": ""
            },
            "type": "mesh3d"
           }
          ],
          "parcoords": [
           {
            "line": {
             "colorbar": {
              "outlinewidth": 0,
              "ticks": ""
             }
            },
            "type": "parcoords"
           }
          ],
          "pie": [
           {
            "automargin": true,
            "type": "pie"
           }
          ],
          "scatter": [
           {
            "fillpattern": {
             "fillmode": "overlay",
             "size": 10,
             "solidity": 0.2
            },
            "type": "scatter"
           }
          ],
          "scatter3d": [
           {
            "line": {
             "colorbar": {
              "outlinewidth": 0,
              "ticks": ""
             }
            },
            "marker": {
             "colorbar": {
              "outlinewidth": 0,
              "ticks": ""
             }
            },
            "type": "scatter3d"
           }
          ],
          "scattercarpet": [
           {
            "marker": {
             "colorbar": {
              "outlinewidth": 0,
              "ticks": ""
             }
            },
            "type": "scattercarpet"
           }
          ],
          "scattergeo": [
           {
            "marker": {
             "colorbar": {
              "outlinewidth": 0,
              "ticks": ""
             }
            },
            "type": "scattergeo"
           }
          ],
          "scattergl": [
           {
            "marker": {
             "colorbar": {
              "outlinewidth": 0,
              "ticks": ""
             }
            },
            "type": "scattergl"
           }
          ],
          "scattermapbox": [
           {
            "marker": {
             "colorbar": {
              "outlinewidth": 0,
              "ticks": ""
             }
            },
            "type": "scattermapbox"
           }
          ],
          "scatterpolar": [
           {
            "marker": {
             "colorbar": {
              "outlinewidth": 0,
              "ticks": ""
             }
            },
            "type": "scatterpolar"
           }
          ],
          "scatterpolargl": [
           {
            "marker": {
             "colorbar": {
              "outlinewidth": 0,
              "ticks": ""
             }
            },
            "type": "scatterpolargl"
           }
          ],
          "scatterternary": [
           {
            "marker": {
             "colorbar": {
              "outlinewidth": 0,
              "ticks": ""
             }
            },
            "type": "scatterternary"
           }
          ],
          "surface": [
           {
            "colorbar": {
             "outlinewidth": 0,
             "ticks": ""
            },
            "colorscale": [
             [
              0,
              "#0d0887"
             ],
             [
              0.1111111111111111,
              "#46039f"
             ],
             [
              0.2222222222222222,
              "#7201a8"
             ],
             [
              0.3333333333333333,
              "#9c179e"
             ],
             [
              0.4444444444444444,
              "#bd3786"
             ],
             [
              0.5555555555555556,
              "#d8576b"
             ],
             [
              0.6666666666666666,
              "#ed7953"
             ],
             [
              0.7777777777777778,
              "#fb9f3a"
             ],
             [
              0.8888888888888888,
              "#fdca26"
             ],
             [
              1,
              "#f0f921"
             ]
            ],
            "type": "surface"
           }
          ],
          "table": [
           {
            "cells": {
             "fill": {
              "color": "#EBF0F8"
             },
             "line": {
              "color": "white"
             }
            },
            "header": {
             "fill": {
              "color": "#C8D4E3"
             },
             "line": {
              "color": "white"
             }
            },
            "type": "table"
           }
          ]
         },
         "layout": {
          "annotationdefaults": {
           "arrowcolor": "#2a3f5f",
           "arrowhead": 0,
           "arrowwidth": 1
          },
          "autotypenumbers": "strict",
          "coloraxis": {
           "colorbar": {
            "outlinewidth": 0,
            "ticks": ""
           }
          },
          "colorscale": {
           "diverging": [
            [
             0,
             "#8e0152"
            ],
            [
             0.1,
             "#c51b7d"
            ],
            [
             0.2,
             "#de77ae"
            ],
            [
             0.3,
             "#f1b6da"
            ],
            [
             0.4,
             "#fde0ef"
            ],
            [
             0.5,
             "#f7f7f7"
            ],
            [
             0.6,
             "#e6f5d0"
            ],
            [
             0.7,
             "#b8e186"
            ],
            [
             0.8,
             "#7fbc41"
            ],
            [
             0.9,
             "#4d9221"
            ],
            [
             1,
             "#276419"
            ]
           ],
           "sequential": [
            [
             0,
             "#0d0887"
            ],
            [
             0.1111111111111111,
             "#46039f"
            ],
            [
             0.2222222222222222,
             "#7201a8"
            ],
            [
             0.3333333333333333,
             "#9c179e"
            ],
            [
             0.4444444444444444,
             "#bd3786"
            ],
            [
             0.5555555555555556,
             "#d8576b"
            ],
            [
             0.6666666666666666,
             "#ed7953"
            ],
            [
             0.7777777777777778,
             "#fb9f3a"
            ],
            [
             0.8888888888888888,
             "#fdca26"
            ],
            [
             1,
             "#f0f921"
            ]
           ],
           "sequentialminus": [
            [
             0,
             "#0d0887"
            ],
            [
             0.1111111111111111,
             "#46039f"
            ],
            [
             0.2222222222222222,
             "#7201a8"
            ],
            [
             0.3333333333333333,
             "#9c179e"
            ],
            [
             0.4444444444444444,
             "#bd3786"
            ],
            [
             0.5555555555555556,
             "#d8576b"
            ],
            [
             0.6666666666666666,
             "#ed7953"
            ],
            [
             0.7777777777777778,
             "#fb9f3a"
            ],
            [
             0.8888888888888888,
             "#fdca26"
            ],
            [
             1,
             "#f0f921"
            ]
           ]
          },
          "colorway": [
           "#636efa",
           "#EF553B",
           "#00cc96",
           "#ab63fa",
           "#FFA15A",
           "#19d3f3",
           "#FF6692",
           "#B6E880",
           "#FF97FF",
           "#FECB52"
          ],
          "font": {
           "color": "#2a3f5f"
          },
          "geo": {
           "bgcolor": "white",
           "lakecolor": "white",
           "landcolor": "#E5ECF6",
           "showlakes": true,
           "showland": true,
           "subunitcolor": "white"
          },
          "hoverlabel": {
           "align": "left"
          },
          "hovermode": "closest",
          "mapbox": {
           "style": "light"
          },
          "paper_bgcolor": "white",
          "plot_bgcolor": "#E5ECF6",
          "polar": {
           "angularaxis": {
            "gridcolor": "white",
            "linecolor": "white",
            "ticks": ""
           },
           "bgcolor": "#E5ECF6",
           "radialaxis": {
            "gridcolor": "white",
            "linecolor": "white",
            "ticks": ""
           }
          },
          "scene": {
           "xaxis": {
            "backgroundcolor": "#E5ECF6",
            "gridcolor": "white",
            "gridwidth": 2,
            "linecolor": "white",
            "showbackground": true,
            "ticks": "",
            "zerolinecolor": "white"
           },
           "yaxis": {
            "backgroundcolor": "#E5ECF6",
            "gridcolor": "white",
            "gridwidth": 2,
            "linecolor": "white",
            "showbackground": true,
            "ticks": "",
            "zerolinecolor": "white"
           },
           "zaxis": {
            "backgroundcolor": "#E5ECF6",
            "gridcolor": "white",
            "gridwidth": 2,
            "linecolor": "white",
            "showbackground": true,
            "ticks": "",
            "zerolinecolor": "white"
           }
          },
          "shapedefaults": {
           "line": {
            "color": "#2a3f5f"
           }
          },
          "ternary": {
           "aaxis": {
            "gridcolor": "white",
            "linecolor": "white",
            "ticks": ""
           },
           "baxis": {
            "gridcolor": "white",
            "linecolor": "white",
            "ticks": ""
           },
           "bgcolor": "#E5ECF6",
           "caxis": {
            "gridcolor": "white",
            "linecolor": "white",
            "ticks": ""
           }
          },
          "title": {
           "x": 0.05
          },
          "xaxis": {
           "automargin": true,
           "gridcolor": "white",
           "linecolor": "white",
           "ticks": "",
           "title": {
            "standoff": 15
           },
           "zerolinecolor": "white",
           "zerolinewidth": 2
          },
          "yaxis": {
           "automargin": true,
           "gridcolor": "white",
           "linecolor": "white",
           "ticks": "",
           "title": {
            "standoff": 15
           },
           "zerolinecolor": "white",
           "zerolinewidth": 2
          }
         }
        },
        "title": {
         "text": "Total Employment for all occupations in each Provinance or Terrority",
         "x": 0.5
        },
        "xaxis": {
         "anchor": "y",
         "domain": [
          0,
          1
         ],
         "title": {
          "text": "Reference Date"
         }
        },
        "yaxis": {
         "anchor": "x",
         "domain": [
          0,
          1
         ],
         "title": {
          "text": "Number of Employed Persons"
         }
        }
       }
      }
     },
     "metadata": {},
     "output_type": "display_data"
    }
   ],
   "source": [
    "fig = px.line(employment_canada_prov, x=\"REF_DATE\", y=\"VALUE\", color=\"GEO\")\n",
    "fig.update_layout(xaxis_title = \"Reference Date\", yaxis_title = \"Number of Employed Persons\", title = \"Total Employment for all occupations in each Provinance or Terrority\"\n",
    ",title_x=0.5)\n",
    "fig.update_traces(textposition=\"bottom right\")\n",
    "fig.show()"
   ]
  },
  {
   "cell_type": "markdown",
   "metadata": {},
   "source": [
    "#### Employment According to Provinance according to Job Category"
   ]
  },
  {
   "cell_type": "markdown",
   "metadata": {},
   "source": [
    "##### Grouping For clear visualization"
   ]
  },
  {
   "cell_type": "code",
   "execution_count": 25,
   "metadata": {},
   "outputs": [],
   "source": [
    "employment_canada_occ_prov = employment_df_yearly[(employment_df_yearly['GEO']!=\"Canada\") & (employment_df_yearly[\"National Occupational Classification (NOC)\"] != \"Total employed, all occupations\")]"
   ]
  },
  {
   "cell_type": "code",
   "execution_count": 26,
   "metadata": {},
   "outputs": [
    {
     "data": {
      "text/html": [
       "<div>\n",
       "<style scoped>\n",
       "    .dataframe tbody tr th:only-of-type {\n",
       "        vertical-align: middle;\n",
       "    }\n",
       "\n",
       "    .dataframe tbody tr th {\n",
       "        vertical-align: top;\n",
       "    }\n",
       "\n",
       "    .dataframe thead th {\n",
       "        text-align: right;\n",
       "    }\n",
       "</style>\n",
       "<table border=\"1\" class=\"dataframe\">\n",
       "  <thead>\n",
       "    <tr style=\"text-align: right;\">\n",
       "      <th></th>\n",
       "      <th>REF_DATE</th>\n",
       "      <th>GEO</th>\n",
       "      <th>National Occupational Classification (NOC)</th>\n",
       "      <th>VALUE</th>\n",
       "    </tr>\n",
       "  </thead>\n",
       "  <tbody>\n",
       "    <tr>\n",
       "      <th>690596</th>\n",
       "      <td>2019-01</td>\n",
       "      <td>Newfoundland and Labrador</td>\n",
       "      <td>Management occupations</td>\n",
       "      <td>13.3</td>\n",
       "    </tr>\n",
       "    <tr>\n",
       "      <th>690597</th>\n",
       "      <td>2019-01</td>\n",
       "      <td>Newfoundland and Labrador</td>\n",
       "      <td>Legislative and senior management occupations</td>\n",
       "      <td>0.6</td>\n",
       "    </tr>\n",
       "    <tr>\n",
       "      <th>690598</th>\n",
       "      <td>2019-01</td>\n",
       "      <td>Newfoundland and Labrador</td>\n",
       "      <td>Specialized middle management occupations</td>\n",
       "      <td>5.0</td>\n",
       "    </tr>\n",
       "    <tr>\n",
       "      <th>690599</th>\n",
       "      <td>2019-01</td>\n",
       "      <td>Newfoundland and Labrador</td>\n",
       "      <td>Middle management occupations in retail and wh...</td>\n",
       "      <td>4.5</td>\n",
       "    </tr>\n",
       "    <tr>\n",
       "      <th>690600</th>\n",
       "      <td>2019-01</td>\n",
       "      <td>Newfoundland and Labrador</td>\n",
       "      <td>Middle management occupations in trades, trans...</td>\n",
       "      <td>3.2</td>\n",
       "    </tr>\n",
       "  </tbody>\n",
       "</table>\n",
       "</div>"
      ],
      "text/plain": [
       "       REF_DATE                        GEO  \\\n",
       "690596  2019-01  Newfoundland and Labrador   \n",
       "690597  2019-01  Newfoundland and Labrador   \n",
       "690598  2019-01  Newfoundland and Labrador   \n",
       "690599  2019-01  Newfoundland and Labrador   \n",
       "690600  2019-01  Newfoundland and Labrador   \n",
       "\n",
       "               National Occupational Classification (NOC)  VALUE  \n",
       "690596                             Management occupations   13.3  \n",
       "690597      Legislative and senior management occupations    0.6  \n",
       "690598          Specialized middle management occupations    5.0  \n",
       "690599  Middle management occupations in retail and wh...    4.5  \n",
       "690600  Middle management occupations in trades, trans...    3.2  "
      ]
     },
     "execution_count": 26,
     "metadata": {},
     "output_type": "execute_result"
    }
   ],
   "source": [
    "employment_canada_occ_prov.head()"
   ]
  },
  {
   "cell_type": "code",
   "execution_count": 27,
   "metadata": {},
   "outputs": [
    {
     "data": {
      "text/html": [
       "<div>\n",
       "<style scoped>\n",
       "    .dataframe tbody tr th:only-of-type {\n",
       "        vertical-align: middle;\n",
       "    }\n",
       "\n",
       "    .dataframe tbody tr th {\n",
       "        vertical-align: top;\n",
       "    }\n",
       "\n",
       "    .dataframe thead th {\n",
       "        text-align: right;\n",
       "    }\n",
       "</style>\n",
       "<table border=\"1\" class=\"dataframe\">\n",
       "  <thead>\n",
       "    <tr style=\"text-align: right;\">\n",
       "      <th></th>\n",
       "      <th>GEO</th>\n",
       "      <th>REF_DATE</th>\n",
       "      <th>National Occupational Classification (NOC)</th>\n",
       "      <th>VALUE</th>\n",
       "    </tr>\n",
       "  </thead>\n",
       "  <tbody>\n",
       "    <tr>\n",
       "      <th>0</th>\n",
       "      <td>Alberta</td>\n",
       "      <td>2019-01</td>\n",
       "      <td>Administrative and financial supervisors and s...</td>\n",
       "      <td>172.6</td>\n",
       "    </tr>\n",
       "    <tr>\n",
       "      <th>1</th>\n",
       "      <td>Alberta</td>\n",
       "      <td>2019-01</td>\n",
       "      <td>Administrative and financial support and suppl...</td>\n",
       "      <td>189.0</td>\n",
       "    </tr>\n",
       "    <tr>\n",
       "      <th>2</th>\n",
       "      <td>Alberta</td>\n",
       "      <td>2019-01</td>\n",
       "      <td>Administrative occupations and transportation ...</td>\n",
       "      <td>140.2</td>\n",
       "    </tr>\n",
       "    <tr>\n",
       "      <th>3</th>\n",
       "      <td>Alberta</td>\n",
       "      <td>2019-01</td>\n",
       "      <td>Assisting occupations in education and in lega...</td>\n",
       "      <td>48.5</td>\n",
       "    </tr>\n",
       "    <tr>\n",
       "      <th>4</th>\n",
       "      <td>Alberta</td>\n",
       "      <td>2019-01</td>\n",
       "      <td>Assisting occupations in support of health ser...</td>\n",
       "      <td>97.1</td>\n",
       "    </tr>\n",
       "    <tr>\n",
       "      <th>...</th>\n",
       "      <td>...</td>\n",
       "      <td>...</td>\n",
       "      <td>...</td>\n",
       "      <td>...</td>\n",
       "    </tr>\n",
       "    <tr>\n",
       "      <th>32354</th>\n",
       "      <td>Saskatchewan</td>\n",
       "      <td>2023-08</td>\n",
       "      <td>Technical occupations related to natural and a...</td>\n",
       "      <td>29.8</td>\n",
       "    </tr>\n",
       "    <tr>\n",
       "      <th>32355</th>\n",
       "      <td>Saskatchewan</td>\n",
       "      <td>2023-08</td>\n",
       "      <td>Technical trades and transportation officers a...</td>\n",
       "      <td>102.6</td>\n",
       "    </tr>\n",
       "    <tr>\n",
       "      <th>32356</th>\n",
       "      <td>Saskatchewan</td>\n",
       "      <td>2023-08</td>\n",
       "      <td>Therapy and assessment professionals</td>\n",
       "      <td>6.4</td>\n",
       "    </tr>\n",
       "    <tr>\n",
       "      <th>32357</th>\n",
       "      <td>Saskatchewan</td>\n",
       "      <td>2023-08</td>\n",
       "      <td>Trades, transport and equipment operators and ...</td>\n",
       "      <td>209.9</td>\n",
       "    </tr>\n",
       "    <tr>\n",
       "      <th>32358</th>\n",
       "      <td>Saskatchewan</td>\n",
       "      <td>2023-08</td>\n",
       "      <td>Workers and labourers in natural resources, ag...</td>\n",
       "      <td>31.1</td>\n",
       "    </tr>\n",
       "  </tbody>\n",
       "</table>\n",
       "<p>32359 rows × 4 columns</p>\n",
       "</div>"
      ],
      "text/plain": [
       "                GEO REF_DATE  \\\n",
       "0           Alberta  2019-01   \n",
       "1           Alberta  2019-01   \n",
       "2           Alberta  2019-01   \n",
       "3           Alberta  2019-01   \n",
       "4           Alberta  2019-01   \n",
       "...             ...      ...   \n",
       "32354  Saskatchewan  2023-08   \n",
       "32355  Saskatchewan  2023-08   \n",
       "32356  Saskatchewan  2023-08   \n",
       "32357  Saskatchewan  2023-08   \n",
       "32358  Saskatchewan  2023-08   \n",
       "\n",
       "              National Occupational Classification (NOC)  VALUE  \n",
       "0      Administrative and financial supervisors and s...  172.6  \n",
       "1      Administrative and financial support and suppl...  189.0  \n",
       "2      Administrative occupations and transportation ...  140.2  \n",
       "3      Assisting occupations in education and in lega...   48.5  \n",
       "4      Assisting occupations in support of health ser...   97.1  \n",
       "...                                                  ...    ...  \n",
       "32354  Technical occupations related to natural and a...   29.8  \n",
       "32355  Technical trades and transportation officers a...  102.6  \n",
       "32356               Therapy and assessment professionals    6.4  \n",
       "32357  Trades, transport and equipment operators and ...  209.9  \n",
       "32358  Workers and labourers in natural resources, ag...   31.1  \n",
       "\n",
       "[32359 rows x 4 columns]"
      ]
     },
     "execution_count": 27,
     "metadata": {},
     "output_type": "execute_result"
    }
   ],
   "source": [
    "employment_canada_occ_prov = employment_canada_occ_prov.groupby(['GEO','REF_DATE','National Occupational Classification (NOC)'])['VALUE'].sum().reset_index()\n",
    "employment_canada_occ_prov"
   ]
  },
  {
   "cell_type": "code",
   "execution_count": 28,
   "metadata": {},
   "outputs": [
    {
     "data": {
      "application/vnd.plotly.v1+json": {
       "config": {
        "plotlyServerURL": "https://plot.ly"
       },
       "data": [
        {
         "hovertemplate": "GEO=Ontario<br>REF_DATE=%{x}<br>VALUE=%{y}<extra></extra>",
         "legendgroup": "Ontario",
         "line": {
          "color": "#636efa",
          "dash": "solid"
         },
         "marker": {
          "symbol": "circle"
         },
         "mode": "lines",
         "name": "Ontario",
         "orientation": "v",
         "showlegend": true,
         "textposition": "bottom right",
         "type": "scatter",
         "x": [
          "2019-01",
          "2019-02",
          "2019-03",
          "2019-04",
          "2019-05",
          "2019-06",
          "2019-07",
          "2019-08",
          "2019-09",
          "2019-10",
          "2019-11",
          "2019-12",
          "2020-01",
          "2020-02",
          "2020-03",
          "2020-04",
          "2020-05",
          "2020-06",
          "2020-07",
          "2020-08",
          "2020-09",
          "2020-10",
          "2020-11",
          "2020-12",
          "2021-01",
          "2021-02",
          "2021-03",
          "2021-04",
          "2021-05",
          "2021-06",
          "2021-07",
          "2021-08",
          "2021-09",
          "2021-10",
          "2021-11",
          "2021-12",
          "2022-01",
          "2022-02",
          "2022-03",
          "2022-04",
          "2022-05",
          "2022-06",
          "2022-07",
          "2022-08",
          "2022-09",
          "2022-10",
          "2022-11",
          "2022-12",
          "2023-01",
          "2023-02",
          "2023-03",
          "2023-04",
          "2023-05",
          "2023-06",
          "2023-07",
          "2023-08"
         ],
         "xaxis": "x",
         "y": [
          1345.6,
          1342.5,
          1344.2,
          1349.3,
          1357.6,
          1378.5,
          1429.4,
          1467.5,
          1479.8,
          1458.1000000000001,
          1429.8,
          1404.8,
          1382.7,
          1375,
          1360.2,
          1357.3,
          1345.9,
          1358.5,
          1340.8999999999999,
          1321.8,
          1306.8,
          1321.9,
          1348,
          1356.7,
          1369,
          1363.3,
          1357.5,
          1348.1000000000001,
          1336.1,
          1351.5,
          1355.5,
          1376.2,
          1372.5,
          1380.4,
          1402.4,
          1426.2,
          1453.4,
          1462.4,
          1464.3,
          1457.9,
          1469.2,
          1487.2,
          1525.7,
          1564,
          1599.8,
          1605.6000000000001,
          1605.5,
          1597.4,
          1590.8,
          1577.5,
          1593.3,
          1621.2,
          1651.9,
          1654,
          1653.7,
          1672.5
         ],
         "yaxis": "y"
        }
       ],
       "layout": {
        "legend": {
         "title": {
          "text": "GEO"
         },
         "tracegroupgap": 0
        },
        "margin": {
         "t": 60
        },
        "template": {
         "data": {
          "bar": [
           {
            "error_x": {
             "color": "#2a3f5f"
            },
            "error_y": {
             "color": "#2a3f5f"
            },
            "marker": {
             "line": {
              "color": "#E5ECF6",
              "width": 0.5
             },
             "pattern": {
              "fillmode": "overlay",
              "size": 10,
              "solidity": 0.2
             }
            },
            "type": "bar"
           }
          ],
          "barpolar": [
           {
            "marker": {
             "line": {
              "color": "#E5ECF6",
              "width": 0.5
             },
             "pattern": {
              "fillmode": "overlay",
              "size": 10,
              "solidity": 0.2
             }
            },
            "type": "barpolar"
           }
          ],
          "carpet": [
           {
            "aaxis": {
             "endlinecolor": "#2a3f5f",
             "gridcolor": "white",
             "linecolor": "white",
             "minorgridcolor": "white",
             "startlinecolor": "#2a3f5f"
            },
            "baxis": {
             "endlinecolor": "#2a3f5f",
             "gridcolor": "white",
             "linecolor": "white",
             "minorgridcolor": "white",
             "startlinecolor": "#2a3f5f"
            },
            "type": "carpet"
           }
          ],
          "choropleth": [
           {
            "colorbar": {
             "outlinewidth": 0,
             "ticks": ""
            },
            "type": "choropleth"
           }
          ],
          "contour": [
           {
            "colorbar": {
             "outlinewidth": 0,
             "ticks": ""
            },
            "colorscale": [
             [
              0,
              "#0d0887"
             ],
             [
              0.1111111111111111,
              "#46039f"
             ],
             [
              0.2222222222222222,
              "#7201a8"
             ],
             [
              0.3333333333333333,
              "#9c179e"
             ],
             [
              0.4444444444444444,
              "#bd3786"
             ],
             [
              0.5555555555555556,
              "#d8576b"
             ],
             [
              0.6666666666666666,
              "#ed7953"
             ],
             [
              0.7777777777777778,
              "#fb9f3a"
             ],
             [
              0.8888888888888888,
              "#fdca26"
             ],
             [
              1,
              "#f0f921"
             ]
            ],
            "type": "contour"
           }
          ],
          "contourcarpet": [
           {
            "colorbar": {
             "outlinewidth": 0,
             "ticks": ""
            },
            "type": "contourcarpet"
           }
          ],
          "heatmap": [
           {
            "colorbar": {
             "outlinewidth": 0,
             "ticks": ""
            },
            "colorscale": [
             [
              0,
              "#0d0887"
             ],
             [
              0.1111111111111111,
              "#46039f"
             ],
             [
              0.2222222222222222,
              "#7201a8"
             ],
             [
              0.3333333333333333,
              "#9c179e"
             ],
             [
              0.4444444444444444,
              "#bd3786"
             ],
             [
              0.5555555555555556,
              "#d8576b"
             ],
             [
              0.6666666666666666,
              "#ed7953"
             ],
             [
              0.7777777777777778,
              "#fb9f3a"
             ],
             [
              0.8888888888888888,
              "#fdca26"
             ],
             [
              1,
              "#f0f921"
             ]
            ],
            "type": "heatmap"
           }
          ],
          "heatmapgl": [
           {
            "colorbar": {
             "outlinewidth": 0,
             "ticks": ""
            },
            "colorscale": [
             [
              0,
              "#0d0887"
             ],
             [
              0.1111111111111111,
              "#46039f"
             ],
             [
              0.2222222222222222,
              "#7201a8"
             ],
             [
              0.3333333333333333,
              "#9c179e"
             ],
             [
              0.4444444444444444,
              "#bd3786"
             ],
             [
              0.5555555555555556,
              "#d8576b"
             ],
             [
              0.6666666666666666,
              "#ed7953"
             ],
             [
              0.7777777777777778,
              "#fb9f3a"
             ],
             [
              0.8888888888888888,
              "#fdca26"
             ],
             [
              1,
              "#f0f921"
             ]
            ],
            "type": "heatmapgl"
           }
          ],
          "histogram": [
           {
            "marker": {
             "pattern": {
              "fillmode": "overlay",
              "size": 10,
              "solidity": 0.2
             }
            },
            "type": "histogram"
           }
          ],
          "histogram2d": [
           {
            "colorbar": {
             "outlinewidth": 0,
             "ticks": ""
            },
            "colorscale": [
             [
              0,
              "#0d0887"
             ],
             [
              0.1111111111111111,
              "#46039f"
             ],
             [
              0.2222222222222222,
              "#7201a8"
             ],
             [
              0.3333333333333333,
              "#9c179e"
             ],
             [
              0.4444444444444444,
              "#bd3786"
             ],
             [
              0.5555555555555556,
              "#d8576b"
             ],
             [
              0.6666666666666666,
              "#ed7953"
             ],
             [
              0.7777777777777778,
              "#fb9f3a"
             ],
             [
              0.8888888888888888,
              "#fdca26"
             ],
             [
              1,
              "#f0f921"
             ]
            ],
            "type": "histogram2d"
           }
          ],
          "histogram2dcontour": [
           {
            "colorbar": {
             "outlinewidth": 0,
             "ticks": ""
            },
            "colorscale": [
             [
              0,
              "#0d0887"
             ],
             [
              0.1111111111111111,
              "#46039f"
             ],
             [
              0.2222222222222222,
              "#7201a8"
             ],
             [
              0.3333333333333333,
              "#9c179e"
             ],
             [
              0.4444444444444444,
              "#bd3786"
             ],
             [
              0.5555555555555556,
              "#d8576b"
             ],
             [
              0.6666666666666666,
              "#ed7953"
             ],
             [
              0.7777777777777778,
              "#fb9f3a"
             ],
             [
              0.8888888888888888,
              "#fdca26"
             ],
             [
              1,
              "#f0f921"
             ]
            ],
            "type": "histogram2dcontour"
           }
          ],
          "mesh3d": [
           {
            "colorbar": {
             "outlinewidth": 0,
             "ticks": ""
            },
            "type": "mesh3d"
           }
          ],
          "parcoords": [
           {
            "line": {
             "colorbar": {
              "outlinewidth": 0,
              "ticks": ""
             }
            },
            "type": "parcoords"
           }
          ],
          "pie": [
           {
            "automargin": true,
            "type": "pie"
           }
          ],
          "scatter": [
           {
            "fillpattern": {
             "fillmode": "overlay",
             "size": 10,
             "solidity": 0.2
            },
            "type": "scatter"
           }
          ],
          "scatter3d": [
           {
            "line": {
             "colorbar": {
              "outlinewidth": 0,
              "ticks": ""
             }
            },
            "marker": {
             "colorbar": {
              "outlinewidth": 0,
              "ticks": ""
             }
            },
            "type": "scatter3d"
           }
          ],
          "scattercarpet": [
           {
            "marker": {
             "colorbar": {
              "outlinewidth": 0,
              "ticks": ""
             }
            },
            "type": "scattercarpet"
           }
          ],
          "scattergeo": [
           {
            "marker": {
             "colorbar": {
              "outlinewidth": 0,
              "ticks": ""
             }
            },
            "type": "scattergeo"
           }
          ],
          "scattergl": [
           {
            "marker": {
             "colorbar": {
              "outlinewidth": 0,
              "ticks": ""
             }
            },
            "type": "scattergl"
           }
          ],
          "scattermapbox": [
           {
            "marker": {
             "colorbar": {
              "outlinewidth": 0,
              "ticks": ""
             }
            },
            "type": "scattermapbox"
           }
          ],
          "scatterpolar": [
           {
            "marker": {
             "colorbar": {
              "outlinewidth": 0,
              "ticks": ""
             }
            },
            "type": "scatterpolar"
           }
          ],
          "scatterpolargl": [
           {
            "marker": {
             "colorbar": {
              "outlinewidth": 0,
              "ticks": ""
             }
            },
            "type": "scatterpolargl"
           }
          ],
          "scatterternary": [
           {
            "marker": {
             "colorbar": {
              "outlinewidth": 0,
              "ticks": ""
             }
            },
            "type": "scatterternary"
           }
          ],
          "surface": [
           {
            "colorbar": {
             "outlinewidth": 0,
             "ticks": ""
            },
            "colorscale": [
             [
              0,
              "#0d0887"
             ],
             [
              0.1111111111111111,
              "#46039f"
             ],
             [
              0.2222222222222222,
              "#7201a8"
             ],
             [
              0.3333333333333333,
              "#9c179e"
             ],
             [
              0.4444444444444444,
              "#bd3786"
             ],
             [
              0.5555555555555556,
              "#d8576b"
             ],
             [
              0.6666666666666666,
              "#ed7953"
             ],
             [
              0.7777777777777778,
              "#fb9f3a"
             ],
             [
              0.8888888888888888,
              "#fdca26"
             ],
             [
              1,
              "#f0f921"
             ]
            ],
            "type": "surface"
           }
          ],
          "table": [
           {
            "cells": {
             "fill": {
              "color": "#EBF0F8"
             },
             "line": {
              "color": "white"
             }
            },
            "header": {
             "fill": {
              "color": "#C8D4E3"
             },
             "line": {
              "color": "white"
             }
            },
            "type": "table"
           }
          ]
         },
         "layout": {
          "annotationdefaults": {
           "arrowcolor": "#2a3f5f",
           "arrowhead": 0,
           "arrowwidth": 1
          },
          "autotypenumbers": "strict",
          "coloraxis": {
           "colorbar": {
            "outlinewidth": 0,
            "ticks": ""
           }
          },
          "colorscale": {
           "diverging": [
            [
             0,
             "#8e0152"
            ],
            [
             0.1,
             "#c51b7d"
            ],
            [
             0.2,
             "#de77ae"
            ],
            [
             0.3,
             "#f1b6da"
            ],
            [
             0.4,
             "#fde0ef"
            ],
            [
             0.5,
             "#f7f7f7"
            ],
            [
             0.6,
             "#e6f5d0"
            ],
            [
             0.7,
             "#b8e186"
            ],
            [
             0.8,
             "#7fbc41"
            ],
            [
             0.9,
             "#4d9221"
            ],
            [
             1,
             "#276419"
            ]
           ],
           "sequential": [
            [
             0,
             "#0d0887"
            ],
            [
             0.1111111111111111,
             "#46039f"
            ],
            [
             0.2222222222222222,
             "#7201a8"
            ],
            [
             0.3333333333333333,
             "#9c179e"
            ],
            [
             0.4444444444444444,
             "#bd3786"
            ],
            [
             0.5555555555555556,
             "#d8576b"
            ],
            [
             0.6666666666666666,
             "#ed7953"
            ],
            [
             0.7777777777777778,
             "#fb9f3a"
            ],
            [
             0.8888888888888888,
             "#fdca26"
            ],
            [
             1,
             "#f0f921"
            ]
           ],
           "sequentialminus": [
            [
             0,
             "#0d0887"
            ],
            [
             0.1111111111111111,
             "#46039f"
            ],
            [
             0.2222222222222222,
             "#7201a8"
            ],
            [
             0.3333333333333333,
             "#9c179e"
            ],
            [
             0.4444444444444444,
             "#bd3786"
            ],
            [
             0.5555555555555556,
             "#d8576b"
            ],
            [
             0.6666666666666666,
             "#ed7953"
            ],
            [
             0.7777777777777778,
             "#fb9f3a"
            ],
            [
             0.8888888888888888,
             "#fdca26"
            ],
            [
             1,
             "#f0f921"
            ]
           ]
          },
          "colorway": [
           "#636efa",
           "#EF553B",
           "#00cc96",
           "#ab63fa",
           "#FFA15A",
           "#19d3f3",
           "#FF6692",
           "#B6E880",
           "#FF97FF",
           "#FECB52"
          ],
          "font": {
           "color": "#2a3f5f"
          },
          "geo": {
           "bgcolor": "white",
           "lakecolor": "white",
           "landcolor": "#E5ECF6",
           "showlakes": true,
           "showland": true,
           "subunitcolor": "white"
          },
          "hoverlabel": {
           "align": "left"
          },
          "hovermode": "closest",
          "mapbox": {
           "style": "light"
          },
          "paper_bgcolor": "white",
          "plot_bgcolor": "#E5ECF6",
          "polar": {
           "angularaxis": {
            "gridcolor": "white",
            "linecolor": "white",
            "ticks": ""
           },
           "bgcolor": "#E5ECF6",
           "radialaxis": {
            "gridcolor": "white",
            "linecolor": "white",
            "ticks": ""
           }
          },
          "scene": {
           "xaxis": {
            "backgroundcolor": "#E5ECF6",
            "gridcolor": "white",
            "gridwidth": 2,
            "linecolor": "white",
            "showbackground": true,
            "ticks": "",
            "zerolinecolor": "white"
           },
           "yaxis": {
            "backgroundcolor": "#E5ECF6",
            "gridcolor": "white",
            "gridwidth": 2,
            "linecolor": "white",
            "showbackground": true,
            "ticks": "",
            "zerolinecolor": "white"
           },
           "zaxis": {
            "backgroundcolor": "#E5ECF6",
            "gridcolor": "white",
            "gridwidth": 2,
            "linecolor": "white",
            "showbackground": true,
            "ticks": "",
            "zerolinecolor": "white"
           }
          },
          "shapedefaults": {
           "line": {
            "color": "#2a3f5f"
           }
          },
          "ternary": {
           "aaxis": {
            "gridcolor": "white",
            "linecolor": "white",
            "ticks": ""
           },
           "baxis": {
            "gridcolor": "white",
            "linecolor": "white",
            "ticks": ""
           },
           "bgcolor": "#E5ECF6",
           "caxis": {
            "gridcolor": "white",
            "linecolor": "white",
            "ticks": ""
           }
          },
          "title": {
           "x": 0.05
          },
          "xaxis": {
           "automargin": true,
           "gridcolor": "white",
           "linecolor": "white",
           "ticks": "",
           "title": {
            "standoff": 15
           },
           "zerolinecolor": "white",
           "zerolinewidth": 2
          },
          "yaxis": {
           "automargin": true,
           "gridcolor": "white",
           "linecolor": "white",
           "ticks": "",
           "title": {
            "standoff": 15
           },
           "zerolinecolor": "white",
           "zerolinewidth": 2
          }
         }
        },
        "title": {
         "text": "Employment for Management occupations in Ontario",
         "x": 0.5
        },
        "xaxis": {
         "anchor": "y",
         "domain": [
          0,
          1
         ],
         "title": {
          "text": "Reference Date"
         }
        },
        "yaxis": {
         "anchor": "x",
         "domain": [
          0,
          1
         ],
         "title": {
          "text": "Number of Employed Persons"
         }
        }
       }
      }
     },
     "metadata": {},
     "output_type": "display_data"
    }
   ],
   "source": [
    "prov = \"Ontario\"\n",
    "occ = \"Management occupations\"\n",
    "occ_prov = employment_canada_occ_prov[(employment_canada_occ_prov[\"GEO\"]==prov) & (employment_canada_occ_prov[\"National Occupational Classification (NOC)\"]==occ)]\n",
    "fig = px.line(occ_prov, x=\"REF_DATE\", y=\"VALUE\", color=\"GEO\")\n",
    "fig.update_layout(xaxis_title = \"Reference Date\", yaxis_title = \"Number of Employed Persons\", title = f\"Employment for {occ} in {prov}\"\n",
    ",title_x=0.5)\n",
    "fig.update_traces(textposition=\"bottom right\")\n",
    "fig.show()"
   ]
  },
  {
   "cell_type": "markdown",
   "metadata": {},
   "source": [
    "#### Save the dataframe for usage in Shiny App"
   ]
  },
  {
   "cell_type": "code",
   "execution_count": 29,
   "metadata": {},
   "outputs": [],
   "source": [
    "employment_canada_occ_prov.to_csv('Employment_by_prov_occ.csv', index=False)"
   ]
  },
  {
   "cell_type": "code",
   "execution_count": null,
   "metadata": {},
   "outputs": [],
   "source": []
  },
  {
   "cell_type": "code",
   "execution_count": null,
   "metadata": {},
   "outputs": [],
   "source": []
  }
 ],
 "metadata": {
  "kernelspec": {
   "display_name": "Python 3",
   "language": "python",
   "name": "python3"
  },
  "language_info": {
   "codemirror_mode": {
    "name": "ipython",
    "version": 3
   },
   "file_extension": ".py",
   "mimetype": "text/x-python",
   "name": "python",
   "nbconvert_exporter": "python",
   "pygments_lexer": "ipython3",
   "version": "3.9.7"
  },
  "orig_nbformat": 4
 },
 "nbformat": 4,
 "nbformat_minor": 2
}
